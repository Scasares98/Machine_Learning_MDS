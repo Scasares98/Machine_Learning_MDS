{
 "cells": [
  {
   "cell_type": "markdown",
   "metadata": {},
   "source": [
    "# Support Vector Machine "
   ]
  },
  {
   "cell_type": "markdown",
   "metadata": {},
   "source": [
    "## 1. Definition "
   ]
  },
  {
   "cell_type": "markdown",
   "metadata": {},
   "source": [
    "The support vector machine algorithm finds a hyperplane in an N-dimensional space that distinctly classifies the data points.\n"
   ]
  },
  {
   "cell_type": "markdown",
   "metadata": {},
   "source": [
    "## 2. Libraries"
   ]
  },
  {
   "cell_type": "code",
   "execution_count": 2,
   "metadata": {},
   "outputs": [],
   "source": [
    "import pandas as pd\n",
    "import numpy as np\n",
    "\n",
    "from sklearn.model_selection import train_test_split \n",
    "\n",
    "from sklearn.svm import SVC # Support Vector Machine \n",
    "from sklearn.model_selection import GridSearchCV\n",
    "\n",
    "from sklearn.metrics import accuracy_score\n",
    "from sklearn.metrics import accuracy_score\n",
    "\n",
    "from sklearn.metrics import confusion_matrix\n",
    "import seaborn as sns\n",
    "\n",
    "from sklearn.metrics import roc_auc_score, roc_curve, plot_roc_curve\n",
    "from sklearn import metrics\n",
    "\n",
    "import matplotlib.pyplot as plt \n",
    "\n",
    "from sklearn.metrics import classification_report\n",
    "\n",
    "import pickle "
   ]
  },
  {
   "cell_type": "markdown",
   "metadata": {},
   "source": [
    "## 3. Load Data "
   ]
  },
  {
   "cell_type": "code",
   "execution_count": 4,
   "metadata": {},
   "outputs": [
    {
     "data": {
      "text/plain": [
       "(460541, 50)"
      ]
     },
     "execution_count": 4,
     "metadata": {},
     "output_type": "execute_result"
    }
   ],
   "source": [
    "loan = pd.read_csv('../data/BB.DD_MODELOS.csv')\n",
    "loan.shape"
   ]
  },
  {
   "cell_type": "code",
   "execution_count": 3,
   "metadata": {},
   "outputs": [
    {
     "data": {
      "text/html": [
       "<div>\n",
       "<style scoped>\n",
       "    .dataframe tbody tr th:only-of-type {\n",
       "        vertical-align: middle;\n",
       "    }\n",
       "\n",
       "    .dataframe tbody tr th {\n",
       "        vertical-align: top;\n",
       "    }\n",
       "\n",
       "    .dataframe thead th {\n",
       "        text-align: right;\n",
       "    }\n",
       "</style>\n",
       "<table border=\"1\" class=\"dataframe\">\n",
       "  <thead>\n",
       "    <tr style=\"text-align: right;\">\n",
       "      <th></th>\n",
       "      <th>Unnamed: 0</th>\n",
       "      <th>loan_acceptance</th>\n",
       "      <th>('acc_now_delinq',)</th>\n",
       "      <th>('acc_open_past_24mths',)</th>\n",
       "      <th>('all_util',)</th>\n",
       "      <th>('annual_inc',)</th>\n",
       "      <th>('avg_cur_bal',)</th>\n",
       "      <th>('bc_util',)</th>\n",
       "      <th>('collections_12_mths_ex_med',)</th>\n",
       "      <th>('delinq_2yrs',)</th>\n",
       "      <th>...</th>\n",
       "      <th>('tax_liens',)</th>\n",
       "      <th>('tot_cur_bal',)</th>\n",
       "      <th>('total_acc',)</th>\n",
       "      <th>('total_bal_ex_mort',)</th>\n",
       "      <th>('total_bc_limit',)</th>\n",
       "      <th>('total_cu_tl',)</th>\n",
       "      <th>('total_rev_hi_lim',)</th>\n",
       "      <th>('MORTGAGE',)</th>\n",
       "      <th>('OWN',)</th>\n",
       "      <th>('RENT',)</th>\n",
       "    </tr>\n",
       "  </thead>\n",
       "  <tbody>\n",
       "    <tr>\n",
       "      <th>0</th>\n",
       "      <td>0</td>\n",
       "      <td>1</td>\n",
       "      <td>-0.070414</td>\n",
       "      <td>1.010683</td>\n",
       "      <td>-4.391856</td>\n",
       "      <td>1.169092</td>\n",
       "      <td>0.632931</td>\n",
       "      <td>-1.756350</td>\n",
       "      <td>-0.121123</td>\n",
       "      <td>-0.373769</td>\n",
       "      <td>...</td>\n",
       "      <td>-0.136687</td>\n",
       "      <td>1.966093</td>\n",
       "      <td>1.645054</td>\n",
       "      <td>1.082435</td>\n",
       "      <td>0.364780</td>\n",
       "      <td>3.872116</td>\n",
       "      <td>0.169542</td>\n",
       "      <td>-0.990665</td>\n",
       "      <td>2.932031</td>\n",
       "      <td>-0.817319</td>\n",
       "    </tr>\n",
       "    <tr>\n",
       "      <th>1</th>\n",
       "      <td>1</td>\n",
       "      <td>1</td>\n",
       "      <td>-0.070414</td>\n",
       "      <td>-0.889720</td>\n",
       "      <td>2.588767</td>\n",
       "      <td>-0.388652</td>\n",
       "      <td>-0.712121</td>\n",
       "      <td>1.344204</td>\n",
       "      <td>-0.121123</td>\n",
       "      <td>-0.373769</td>\n",
       "      <td>...</td>\n",
       "      <td>-0.136687</td>\n",
       "      <td>-0.865215</td>\n",
       "      <td>-1.644651</td>\n",
       "      <td>-0.937178</td>\n",
       "      <td>-0.813060</td>\n",
       "      <td>-1.373566</td>\n",
       "      <td>-0.787800</td>\n",
       "      <td>-0.990665</td>\n",
       "      <td>-0.341061</td>\n",
       "      <td>1.223512</td>\n",
       "    </tr>\n",
       "    <tr>\n",
       "      <th>2</th>\n",
       "      <td>2</td>\n",
       "      <td>1</td>\n",
       "      <td>-0.070414</td>\n",
       "      <td>2.594353</td>\n",
       "      <td>-3.840754</td>\n",
       "      <td>0.518772</td>\n",
       "      <td>0.083906</td>\n",
       "      <td>-1.236562</td>\n",
       "      <td>-0.121123</td>\n",
       "      <td>-0.373769</td>\n",
       "      <td>...</td>\n",
       "      <td>-0.136687</td>\n",
       "      <td>0.889188</td>\n",
       "      <td>0.082444</td>\n",
       "      <td>-0.081508</td>\n",
       "      <td>3.037755</td>\n",
       "      <td>3.872116</td>\n",
       "      <td>1.523901</td>\n",
       "      <td>1.009422</td>\n",
       "      <td>-0.341061</td>\n",
       "      <td>-0.817319</td>\n",
       "    </tr>\n",
       "    <tr>\n",
       "      <th>3</th>\n",
       "      <td>3</td>\n",
       "      <td>1</td>\n",
       "      <td>-0.070414</td>\n",
       "      <td>0.693949</td>\n",
       "      <td>-4.391856</td>\n",
       "      <td>-0.358722</td>\n",
       "      <td>-0.783204</td>\n",
       "      <td>-1.443750</td>\n",
       "      <td>-0.121123</td>\n",
       "      <td>-0.373769</td>\n",
       "      <td>...</td>\n",
       "      <td>-0.136687</td>\n",
       "      <td>-0.830447</td>\n",
       "      <td>-0.411012</td>\n",
       "      <td>-0.823391</td>\n",
       "      <td>-0.082319</td>\n",
       "      <td>-1.373566</td>\n",
       "      <td>-0.081056</td>\n",
       "      <td>-0.990665</td>\n",
       "      <td>-0.341061</td>\n",
       "      <td>1.223512</td>\n",
       "    </tr>\n",
       "    <tr>\n",
       "      <th>4</th>\n",
       "      <td>4</td>\n",
       "      <td>1</td>\n",
       "      <td>-0.070414</td>\n",
       "      <td>0.060482</td>\n",
       "      <td>3.690971</td>\n",
       "      <td>-0.010558</td>\n",
       "      <td>1.173048</td>\n",
       "      <td>1.020700</td>\n",
       "      <td>-0.121123</td>\n",
       "      <td>0.716465</td>\n",
       "      <td>...</td>\n",
       "      <td>-0.136687</td>\n",
       "      <td>-0.074671</td>\n",
       "      <td>-1.315681</td>\n",
       "      <td>-0.468803</td>\n",
       "      <td>-0.841905</td>\n",
       "      <td>-1.373566</td>\n",
       "      <td>-0.804695</td>\n",
       "      <td>1.009422</td>\n",
       "      <td>-0.341061</td>\n",
       "      <td>-0.817319</td>\n",
       "    </tr>\n",
       "  </tbody>\n",
       "</table>\n",
       "<p>5 rows × 50 columns</p>\n",
       "</div>"
      ],
      "text/plain": [
       "   Unnamed: 0  loan_acceptance  ('acc_now_delinq',)  \\\n",
       "0           0                1            -0.070414   \n",
       "1           1                1            -0.070414   \n",
       "2           2                1            -0.070414   \n",
       "3           3                1            -0.070414   \n",
       "4           4                1            -0.070414   \n",
       "\n",
       "   ('acc_open_past_24mths',)  ('all_util',)  ('annual_inc',)  \\\n",
       "0                   1.010683      -4.391856         1.169092   \n",
       "1                  -0.889720       2.588767        -0.388652   \n",
       "2                   2.594353      -3.840754         0.518772   \n",
       "3                   0.693949      -4.391856        -0.358722   \n",
       "4                   0.060482       3.690971        -0.010558   \n",
       "\n",
       "   ('avg_cur_bal',)  ('bc_util',)  ('collections_12_mths_ex_med',)  \\\n",
       "0          0.632931     -1.756350                        -0.121123   \n",
       "1         -0.712121      1.344204                        -0.121123   \n",
       "2          0.083906     -1.236562                        -0.121123   \n",
       "3         -0.783204     -1.443750                        -0.121123   \n",
       "4          1.173048      1.020700                        -0.121123   \n",
       "\n",
       "   ('delinq_2yrs',)  ...  ('tax_liens',)  ('tot_cur_bal',)  ('total_acc',)  \\\n",
       "0         -0.373769  ...       -0.136687          1.966093        1.645054   \n",
       "1         -0.373769  ...       -0.136687         -0.865215       -1.644651   \n",
       "2         -0.373769  ...       -0.136687          0.889188        0.082444   \n",
       "3         -0.373769  ...       -0.136687         -0.830447       -0.411012   \n",
       "4          0.716465  ...       -0.136687         -0.074671       -1.315681   \n",
       "\n",
       "   ('total_bal_ex_mort',)  ('total_bc_limit',)  ('total_cu_tl',)  \\\n",
       "0                1.082435             0.364780          3.872116   \n",
       "1               -0.937178            -0.813060         -1.373566   \n",
       "2               -0.081508             3.037755          3.872116   \n",
       "3               -0.823391            -0.082319         -1.373566   \n",
       "4               -0.468803            -0.841905         -1.373566   \n",
       "\n",
       "   ('total_rev_hi_lim',)  ('MORTGAGE',)  ('OWN',)  ('RENT',)  \n",
       "0               0.169542      -0.990665  2.932031  -0.817319  \n",
       "1              -0.787800      -0.990665 -0.341061   1.223512  \n",
       "2               1.523901       1.009422 -0.341061  -0.817319  \n",
       "3              -0.081056      -0.990665 -0.341061   1.223512  \n",
       "4              -0.804695       1.009422 -0.341061  -0.817319  \n",
       "\n",
       "[5 rows x 50 columns]"
      ]
     },
     "execution_count": 3,
     "metadata": {},
     "output_type": "execute_result"
    }
   ],
   "source": [
    "loan.head()"
   ]
  },
  {
   "cell_type": "code",
   "execution_count": 5,
   "metadata": {},
   "outputs": [
    {
     "data": {
      "text/html": [
       "<div>\n",
       "<style scoped>\n",
       "    .dataframe tbody tr th:only-of-type {\n",
       "        vertical-align: middle;\n",
       "    }\n",
       "\n",
       "    .dataframe tbody tr th {\n",
       "        vertical-align: top;\n",
       "    }\n",
       "\n",
       "    .dataframe thead th {\n",
       "        text-align: right;\n",
       "    }\n",
       "</style>\n",
       "<table border=\"1\" class=\"dataframe\">\n",
       "  <thead>\n",
       "    <tr style=\"text-align: right;\">\n",
       "      <th></th>\n",
       "      <th>loan_acceptance</th>\n",
       "      <th>('acc_now_delinq',)</th>\n",
       "      <th>('acc_open_past_24mths',)</th>\n",
       "      <th>('all_util',)</th>\n",
       "      <th>('annual_inc',)</th>\n",
       "      <th>('avg_cur_bal',)</th>\n",
       "      <th>('bc_util',)</th>\n",
       "      <th>('collections_12_mths_ex_med',)</th>\n",
       "      <th>('delinq_2yrs',)</th>\n",
       "      <th>('delinq_amnt',)</th>\n",
       "      <th>...</th>\n",
       "      <th>('tax_liens',)</th>\n",
       "      <th>('tot_cur_bal',)</th>\n",
       "      <th>('total_acc',)</th>\n",
       "      <th>('total_bal_ex_mort',)</th>\n",
       "      <th>('total_bc_limit',)</th>\n",
       "      <th>('total_cu_tl',)</th>\n",
       "      <th>('total_rev_hi_lim',)</th>\n",
       "      <th>('MORTGAGE',)</th>\n",
       "      <th>('OWN',)</th>\n",
       "      <th>('RENT',)</th>\n",
       "    </tr>\n",
       "  </thead>\n",
       "  <tbody>\n",
       "    <tr>\n",
       "      <th>0</th>\n",
       "      <td>1</td>\n",
       "      <td>-0.070414</td>\n",
       "      <td>1.010683</td>\n",
       "      <td>-4.391856</td>\n",
       "      <td>1.169092</td>\n",
       "      <td>0.632931</td>\n",
       "      <td>-1.756350</td>\n",
       "      <td>-0.121123</td>\n",
       "      <td>-0.373769</td>\n",
       "      <td>-0.018151</td>\n",
       "      <td>...</td>\n",
       "      <td>-0.136687</td>\n",
       "      <td>1.966093</td>\n",
       "      <td>1.645054</td>\n",
       "      <td>1.082435</td>\n",
       "      <td>0.364780</td>\n",
       "      <td>3.872116</td>\n",
       "      <td>0.169542</td>\n",
       "      <td>-0.990665</td>\n",
       "      <td>2.932031</td>\n",
       "      <td>-0.817319</td>\n",
       "    </tr>\n",
       "    <tr>\n",
       "      <th>1</th>\n",
       "      <td>1</td>\n",
       "      <td>-0.070414</td>\n",
       "      <td>-0.889720</td>\n",
       "      <td>2.588767</td>\n",
       "      <td>-0.388652</td>\n",
       "      <td>-0.712121</td>\n",
       "      <td>1.344204</td>\n",
       "      <td>-0.121123</td>\n",
       "      <td>-0.373769</td>\n",
       "      <td>-0.018151</td>\n",
       "      <td>...</td>\n",
       "      <td>-0.136687</td>\n",
       "      <td>-0.865215</td>\n",
       "      <td>-1.644651</td>\n",
       "      <td>-0.937178</td>\n",
       "      <td>-0.813060</td>\n",
       "      <td>-1.373566</td>\n",
       "      <td>-0.787800</td>\n",
       "      <td>-0.990665</td>\n",
       "      <td>-0.341061</td>\n",
       "      <td>1.223512</td>\n",
       "    </tr>\n",
       "    <tr>\n",
       "      <th>2</th>\n",
       "      <td>1</td>\n",
       "      <td>-0.070414</td>\n",
       "      <td>2.594353</td>\n",
       "      <td>-3.840754</td>\n",
       "      <td>0.518772</td>\n",
       "      <td>0.083906</td>\n",
       "      <td>-1.236562</td>\n",
       "      <td>-0.121123</td>\n",
       "      <td>-0.373769</td>\n",
       "      <td>-0.018151</td>\n",
       "      <td>...</td>\n",
       "      <td>-0.136687</td>\n",
       "      <td>0.889188</td>\n",
       "      <td>0.082444</td>\n",
       "      <td>-0.081508</td>\n",
       "      <td>3.037755</td>\n",
       "      <td>3.872116</td>\n",
       "      <td>1.523901</td>\n",
       "      <td>1.009422</td>\n",
       "      <td>-0.341061</td>\n",
       "      <td>-0.817319</td>\n",
       "    </tr>\n",
       "    <tr>\n",
       "      <th>3</th>\n",
       "      <td>1</td>\n",
       "      <td>-0.070414</td>\n",
       "      <td>0.693949</td>\n",
       "      <td>-4.391856</td>\n",
       "      <td>-0.358722</td>\n",
       "      <td>-0.783204</td>\n",
       "      <td>-1.443750</td>\n",
       "      <td>-0.121123</td>\n",
       "      <td>-0.373769</td>\n",
       "      <td>-0.018151</td>\n",
       "      <td>...</td>\n",
       "      <td>-0.136687</td>\n",
       "      <td>-0.830447</td>\n",
       "      <td>-0.411012</td>\n",
       "      <td>-0.823391</td>\n",
       "      <td>-0.082319</td>\n",
       "      <td>-1.373566</td>\n",
       "      <td>-0.081056</td>\n",
       "      <td>-0.990665</td>\n",
       "      <td>-0.341061</td>\n",
       "      <td>1.223512</td>\n",
       "    </tr>\n",
       "    <tr>\n",
       "      <th>4</th>\n",
       "      <td>1</td>\n",
       "      <td>-0.070414</td>\n",
       "      <td>0.060482</td>\n",
       "      <td>3.690971</td>\n",
       "      <td>-0.010558</td>\n",
       "      <td>1.173048</td>\n",
       "      <td>1.020700</td>\n",
       "      <td>-0.121123</td>\n",
       "      <td>0.716465</td>\n",
       "      <td>-0.018151</td>\n",
       "      <td>...</td>\n",
       "      <td>-0.136687</td>\n",
       "      <td>-0.074671</td>\n",
       "      <td>-1.315681</td>\n",
       "      <td>-0.468803</td>\n",
       "      <td>-0.841905</td>\n",
       "      <td>-1.373566</td>\n",
       "      <td>-0.804695</td>\n",
       "      <td>1.009422</td>\n",
       "      <td>-0.341061</td>\n",
       "      <td>-0.817319</td>\n",
       "    </tr>\n",
       "  </tbody>\n",
       "</table>\n",
       "<p>5 rows × 49 columns</p>\n",
       "</div>"
      ],
      "text/plain": [
       "   loan_acceptance  ('acc_now_delinq',)  ('acc_open_past_24mths',)  \\\n",
       "0                1            -0.070414                   1.010683   \n",
       "1                1            -0.070414                  -0.889720   \n",
       "2                1            -0.070414                   2.594353   \n",
       "3                1            -0.070414                   0.693949   \n",
       "4                1            -0.070414                   0.060482   \n",
       "\n",
       "   ('all_util',)  ('annual_inc',)  ('avg_cur_bal',)  ('bc_util',)  \\\n",
       "0      -4.391856         1.169092          0.632931     -1.756350   \n",
       "1       2.588767        -0.388652         -0.712121      1.344204   \n",
       "2      -3.840754         0.518772          0.083906     -1.236562   \n",
       "3      -4.391856        -0.358722         -0.783204     -1.443750   \n",
       "4       3.690971        -0.010558          1.173048      1.020700   \n",
       "\n",
       "   ('collections_12_mths_ex_med',)  ('delinq_2yrs',)  ('delinq_amnt',)  ...  \\\n",
       "0                        -0.121123         -0.373769         -0.018151  ...   \n",
       "1                        -0.121123         -0.373769         -0.018151  ...   \n",
       "2                        -0.121123         -0.373769         -0.018151  ...   \n",
       "3                        -0.121123         -0.373769         -0.018151  ...   \n",
       "4                        -0.121123          0.716465         -0.018151  ...   \n",
       "\n",
       "   ('tax_liens',)  ('tot_cur_bal',)  ('total_acc',)  ('total_bal_ex_mort',)  \\\n",
       "0       -0.136687          1.966093        1.645054                1.082435   \n",
       "1       -0.136687         -0.865215       -1.644651               -0.937178   \n",
       "2       -0.136687          0.889188        0.082444               -0.081508   \n",
       "3       -0.136687         -0.830447       -0.411012               -0.823391   \n",
       "4       -0.136687         -0.074671       -1.315681               -0.468803   \n",
       "\n",
       "   ('total_bc_limit',)  ('total_cu_tl',)  ('total_rev_hi_lim',)  \\\n",
       "0             0.364780          3.872116               0.169542   \n",
       "1            -0.813060         -1.373566              -0.787800   \n",
       "2             3.037755          3.872116               1.523901   \n",
       "3            -0.082319         -1.373566              -0.081056   \n",
       "4            -0.841905         -1.373566              -0.804695   \n",
       "\n",
       "   ('MORTGAGE',)  ('OWN',)  ('RENT',)  \n",
       "0      -0.990665  2.932031  -0.817319  \n",
       "1      -0.990665 -0.341061   1.223512  \n",
       "2       1.009422 -0.341061  -0.817319  \n",
       "3      -0.990665 -0.341061   1.223512  \n",
       "4       1.009422 -0.341061  -0.817319  \n",
       "\n",
       "[5 rows x 49 columns]"
      ]
     },
     "execution_count": 5,
     "metadata": {},
     "output_type": "execute_result"
    }
   ],
   "source": [
    "data = loan.iloc[:,1:]\n",
    "data.head()"
   ]
  },
  {
   "cell_type": "code",
   "execution_count": 6,
   "metadata": {},
   "outputs": [],
   "source": [
    "X = data.drop(['loan_acceptance'], axis = 1).values\n",
    "Y = data['loan_acceptance'].values"
   ]
  },
  {
   "cell_type": "code",
   "execution_count": 7,
   "metadata": {},
   "outputs": [],
   "source": [
    "# We use the train_test_split function from SkLearn to split our dataset in two groups, the big one is to train the\n",
    "# model and the 10% (in this case) to predict.\n",
    "X_train, X_test, Y_train, Y_test = train_test_split(X, Y, test_size = 0.1) # Percentage of the test group."
   ]
  },
  {
   "cell_type": "markdown",
   "metadata": {},
   "source": [
    "## 4. SVM Model"
   ]
  },
  {
   "cell_type": "markdown",
   "metadata": {},
   "source": [
    "We use %%time to know the time that this model needs to be run with our dataset.\n",
    "\n",
    "Kernel: 'Linear'. We introduce this parameter after tasting 'rbf' kernel. The 'rbf' kernel did not give us an admissible prediction. \n",
    "\n",
    "In the last line of the box we train the SVM with our dataset.\n",
    "\n",
    "We had to set max_iter = 500 to be able to run the code."
   ]
  },
  {
   "cell_type": "code",
   "execution_count": null,
   "metadata": {},
   "outputs": [],
   "source": [
    "# This is the Support Vector Machine without hyperparameters\n",
    "%%time\n",
    "\n",
    "sv = SVC(kernel = 'linear', max_iter = 500)\n",
    "\n",
    "sv.fit(X_train,Y_train)"
   ]
  },
  {
   "cell_type": "markdown",
   "metadata": {},
   "source": [
    "## SVM Model Hyperparameters"
   ]
  },
  {
   "cell_type": "markdown",
   "metadata": {},
   "source": [
    "Now, we are going to use the GridSearchCV function to optimize the parameters that we use."
   ]
  },
  {
   "cell_type": "code",
   "execution_count": 70,
   "metadata": {},
   "outputs": [],
   "source": [
    "param_test = {'C': [1, 6], 'kernel': ('linear', 'rbf')}\n",
    "gsearch_SVM = GridSearchCV(estimator=SVC(max_iter = 200,probability=True ),\n",
    "             param_grid= param_test , scoring='roc_auc', n_jobs=-2, iid=False)"
   ]
  },
  {
   "cell_type": "code",
   "execution_count": 71,
   "metadata": {},
   "outputs": [
    {
     "name": "stderr",
     "output_type": "stream",
     "text": [
      "/Users/gonzalocarretero/opt/anaconda3/envs/models/lib/python3.8/site-packages/sklearn/model_selection/_search.py:847: FutureWarning: The parameter 'iid' is deprecated in 0.22 and will be removed in 0.24.\n",
      "  warnings.warn(\n"
     ]
    },
    {
     "name": "stdout",
     "output_type": "stream",
     "text": [
      "CPU times: user 2min 17s, sys: 1.63 s, total: 2min 18s\n",
      "Wall time: 34min 2s\n"
     ]
    },
    {
     "name": "stderr",
     "output_type": "stream",
     "text": [
      "/Users/gonzalocarretero/opt/anaconda3/envs/models/lib/python3.8/site-packages/sklearn/svm/_base.py:246: ConvergenceWarning: Solver terminated early (max_iter=200).  Consider pre-processing your data with StandardScaler or MinMaxScaler.\n",
      "  warnings.warn('Solver terminated early (max_iter=%i).'\n"
     ]
    },
    {
     "data": {
      "text/plain": [
       "GridSearchCV(estimator=SVC(max_iter=200, probability=True), iid=False,\n",
       "             n_jobs=-2, param_grid={'C': [1, 6], 'kernel': ('linear', 'rbf')},\n",
       "             scoring='roc_auc')"
      ]
     },
     "execution_count": 71,
     "metadata": {},
     "output_type": "execute_result"
    }
   ],
   "source": [
    "%%time\n",
    "gsearch_SVM.fit(X_train, Y_train)"
   ]
  },
  {
   "cell_type": "code",
   "execution_count": 72,
   "metadata": {},
   "outputs": [
    {
     "data": {
      "text/plain": [
       "{'C': 6, 'kernel': 'rbf'}"
      ]
     },
     "execution_count": 72,
     "metadata": {},
     "output_type": "execute_result"
    }
   ],
   "source": [
    "gsearch_SVM.best_params_"
   ]
  },
  {
   "cell_type": "code",
   "execution_count": 73,
   "metadata": {
    "scrolled": true
   },
   "outputs": [
    {
     "data": {
      "text/plain": [
       "SVC(C=6, max_iter=200, probability=True)"
      ]
     },
     "execution_count": 73,
     "metadata": {},
     "output_type": "execute_result"
    }
   ],
   "source": [
    "gsearch_SVM.best_estimator_"
   ]
  },
  {
   "cell_type": "code",
   "execution_count": 74,
   "metadata": {},
   "outputs": [
    {
     "name": "stdout",
     "output_type": "stream",
     "text": [
      "CPU times: user 2min 16s, sys: 1.18 s, total: 2min 17s\n",
      "Wall time: 2min 18s\n"
     ]
    },
    {
     "name": "stderr",
     "output_type": "stream",
     "text": [
      "/Users/gonzalocarretero/opt/anaconda3/envs/models/lib/python3.8/site-packages/sklearn/svm/_base.py:246: ConvergenceWarning: Solver terminated early (max_iter=200).  Consider pre-processing your data with StandardScaler or MinMaxScaler.\n",
      "  warnings.warn('Solver terminated early (max_iter=%i).'\n"
     ]
    },
    {
     "data": {
      "text/plain": [
       "SVC(C=6, max_iter=200, probability=True)"
      ]
     },
     "execution_count": 74,
     "metadata": {},
     "output_type": "execute_result"
    }
   ],
   "source": [
    "%%time\n",
    "Best_SVM = gsearch_SVM.best_estimator_\n",
    "Best_SVM.fit(X_train, Y_train)"
   ]
  },
  {
   "cell_type": "code",
   "execution_count": 76,
   "metadata": {},
   "outputs": [
    {
     "name": "stdout",
     "output_type": "stream",
     "text": [
      "[0 0 1 ... 0 0 0]\n"
     ]
    }
   ],
   "source": [
    "# Predict\n",
    "pred = Best_SVM.predict(X_test)\n",
    "\n",
    "# We just want to print the result to check if the output is correct (0 means deny, 1 accept).\n",
    "print(pred)"
   ]
  },
  {
   "cell_type": "code",
   "execution_count": 77,
   "metadata": {
    "scrolled": true
   },
   "outputs": [
    {
     "data": {
      "text/plain": [
       "0.41270220388665724"
      ]
     },
     "execution_count": 77,
     "metadata": {},
     "output_type": "execute_result"
    }
   ],
   "source": [
    "# Check its accuracy\n",
    "accuracy_score(Y_test, pred)"
   ]
  },
  {
   "cell_type": "markdown",
   "metadata": {},
   "source": [
    "The accuracy of the base model was 0.747, so we do not get a good accuracy with the support vector machine. Actually this will be fixed using more parameters. We tried it, but, unfortunatly, our laptops need to much time to run all the models that we performed."
   ]
  },
  {
   "cell_type": "markdown",
   "metadata": {},
   "source": [
    "### Confusion Matrix"
   ]
  },
  {
   "cell_type": "code",
   "execution_count": 8,
   "metadata": {},
   "outputs": [
    {
     "name": "stdout",
     "output_type": "stream",
     "text": [
      "[0 0 0 ... 0 1 0]\n"
     ]
    }
   ],
   "source": [
    "loaded_model = pickle.load(open('SVM.sav', 'rb'))\n",
    "result = loaded_model.score(X_test, Y_test)\n",
    "pred = loaded_model.predict(X_test)\n",
    "print(pred)"
   ]
  },
  {
   "cell_type": "code",
   "execution_count": 15,
   "metadata": {},
   "outputs": [],
   "source": [
    "confusion_matrix = confusion_matrix(Y_test, pred )\n",
    "confusion_matrix = pd.DataFrame(confusion_matrix)"
   ]
  },
  {
   "cell_type": "code",
   "execution_count": 16,
   "metadata": {},
   "outputs": [],
   "source": [
    "def conf_matrix(Y_test, pred):\n",
    "    conf_plot = sns.heatmap(confusion_matrix, annot=True, cmap='Blues', fmt='g')\n",
    "    bottom, top = conf_plot.get_ylim()\n",
    "    conf_plot.set_ylim(bottom + 0.5, top - 0.5)\n",
    "    conf_plot.set_ylabel('Predicted Label')\n",
    "    conf_plot.set_xlabel('True Label');"
   ]
  },
  {
   "cell_type": "code",
   "execution_count": 17,
   "metadata": {
    "scrolled": true
   },
   "outputs": [
    {
     "data": {
      "image/png": "[encoded data removed]",
      "text/plain": [
       "<Figure size 432x288 with 2 Axes>"
      ]
     },
     "metadata": {
      "needs_background": "light"
     },
     "output_type": "display_data"
    }
   ],
   "source": [
    "conf_matrix(Y_test, pred)"
   ]
  },
  {
   "cell_type": "markdown",
   "metadata": {},
   "source": [
    "Looking this confusion matrix we can observe that this model is predicting quite well the right-down box, the people who paid.\n",
    "However, we can not say the same for the people who do not pay. If we compare the up-left box, people who do not paid detected, with the down-left box, people who do not pay but we believed that yes, our accuracy is very low. \n",
    "\n",
    "Basically we have the same problem than with the Logistics Model."
   ]
  },
  {
   "cell_type": "markdown",
   "metadata": {},
   "source": [
    "### Confusion Matrix Normalized"
   ]
  },
  {
   "cell_type": "code",
   "execution_count": 10,
   "metadata": {},
   "outputs": [],
   "source": [
    "confusion_matrix_normalize = confusion_matrix(Y_test, pred, normalize = 'pred' )\n",
    "confusion_matrix_normalize = pd.DataFrame(confusion_matrixasd)"
   ]
  },
  {
   "cell_type": "code",
   "execution_count": 11,
   "metadata": {},
   "outputs": [],
   "source": [
    "def conf_matrix(Y_test, pred):\n",
    "    conf_plot = sns.heatmap(confusion_matrix_normalize, annot=True, cmap='Blues', fmt='g')\n",
    "    bottom, top = conf_plot.get_ylim()\n",
    "    conf_plot.set_ylim(bottom + 0.5, top - 0.5)\n",
    "    conf_plot.set_title(\"Confusion matrix\")"
   ]
  },
  {
   "cell_type": "code",
   "execution_count": 12,
   "metadata": {},
   "outputs": [
    {
     "data": {
      "image/png": "[encoded data removed]",
      "text/plain": [
       "<Figure size 432x288 with 2 Axes>"
      ]
     },
     "metadata": {
      "needs_background": "light"
     },
     "output_type": "display_data"
    }
   ],
   "source": [
    "conf_matrix(Y_test, pred)"
   ]
  },
  {
   "cell_type": "markdown",
   "metadata": {},
   "source": [
    "### ROC Curve"
   ]
  },
  {
   "cell_type": "code",
   "execution_count": 62,
   "metadata": {
    "scrolled": true
   },
   "outputs": [
    {
     "data": {
      "image/png": "[encoded data removed]",
      "text/plain": [
       "<Figure size 432x288 with 1 Axes>"
      ]
     },
     "metadata": {
      "needs_background": "light"
     },
     "output_type": "display_data"
    }
   ],
   "source": [
    "metrics.plot_roc_curve(Best_SVM, X_test, Y_test)\n",
    "plt.show()"
   ]
  },
  {
   "cell_type": "markdown",
   "metadata": {},
   "source": [
    "As we can observe, our AUC using the Support Vector Machine is quite low."
   ]
  },
  {
   "cell_type": "markdown",
   "metadata": {},
   "source": [
    "### Cumulative Gain Curve"
   ]
  },
  {
   "cell_type": "code",
   "execution_count": 90,
   "metadata": {},
   "outputs": [],
   "source": [
    "predicted_probas = Best_SVM.predict_proba(X_test)"
   ]
  },
  {
   "cell_type": "code",
   "execution_count": 91,
   "metadata": {},
   "outputs": [],
   "source": [
    "import scikitplot as skplt"
   ]
  },
  {
   "cell_type": "code",
   "execution_count": 92,
   "metadata": {},
   "outputs": [
    {
     "data": {
      "image/png": "[encoded data removed]",
      "text/plain": [
       "<Figure size 432x288 with 1 Axes>"
      ]
     },
     "metadata": {
      "needs_background": "light"
     },
     "output_type": "display_data"
    }
   ],
   "source": [
    "skplt.metrics.plot_cumulative_gain(Y_test, predicted_probas)\n",
    "plt.show()"
   ]
  },
  {
   "cell_type": "markdown",
   "metadata": {},
   "source": [
    "### Lift Curve"
   ]
  },
  {
   "cell_type": "code",
   "execution_count": 93,
   "metadata": {},
   "outputs": [
    {
     "data": {
      "image/png": "[encoded data removed]",
      "text/plain": [
       "<Figure size 432x288 with 1 Axes>"
      ]
     },
     "metadata": {
      "needs_background": "light"
     },
     "output_type": "display_data"
    }
   ],
   "source": [
    "skplt.metrics.plot_lift_curve(Y_test, predicted_probas)\n",
    "plt.show()"
   ]
  },
  {
   "cell_type": "markdown",
   "metadata": {},
   "source": [
    "### Histogram"
   ]
  },
  {
   "cell_type": "code",
   "execution_count": 99,
   "metadata": {},
   "outputs": [
    {
     "data": {
      "text/plain": [
       "Text(0, 0.5, 'Frequency')"
      ]
     },
     "execution_count": 99,
     "metadata": {},
     "output_type": "execute_result"
    },
    {
     "data": {
      "image/png": "[encoded data removed]",
      "text/plain": [
       "<Figure size 576x396 with 1 Axes>"
      ]
     },
     "metadata": {},
     "output_type": "display_data"
    }
   ],
   "source": [
    "y_pred_prob = predicted_probas[:, 1]\n",
    "\n",
    "plt.rcParams['font.size'] = 12\n",
    "plt.hist(y_pred_prob, bins=25,facecolor='royalblue', edgecolor = 'black')\n",
    "plt.xlim(0.6,0.9)\n",
    "plt.title('Histogram of predicted probabilities')\n",
    "plt.xlabel('Predicted probability')\n",
    "plt.ylabel('Frequency')"
   ]
  },
  {
   "cell_type": "markdown",
   "metadata": {},
   "source": [
    "### Model Statistics"
   ]
  },
  {
   "cell_type": "code",
   "execution_count": 31,
   "metadata": {
    "scrolled": true
   },
   "outputs": [
    {
     "name": "stdout",
     "output_type": "stream",
     "text": [
      "              precision    recall  f1-score   support\n",
      "\n",
      "           0       0.33      0.24      0.28     11492\n",
      "           1       0.77      0.84      0.80     34563\n",
      "\n",
      "    accuracy                           0.69     46055\n",
      "   macro avg       0.55      0.54      0.54     46055\n",
      "weighted avg       0.66      0.69      0.67     46055\n",
      "\n"
     ]
    }
   ],
   "source": [
    "print(classification_report(Y_test, pred))"
   ]
  },
  {
   "cell_type": "markdown",
   "metadata": {},
   "source": [
    "We can observe again that this model has precision to detect people who pay, so it has a good score for this type of people. But, the score and precision to detect non-payers is quite bad."
   ]
  },
  {
   "cell_type": "markdown",
   "metadata": {},
   "source": [
    "### Save the model"
   ]
  },
  {
   "cell_type": "code",
   "execution_count": 101,
   "metadata": {},
   "outputs": [],
   "source": [
    "model = Best_SVM\n",
    "filename = 'svm.sav'\n",
    "pickle.dump(model, open(filename, 'wb'))"
   ]
  }
 ],
 "metadata": {
  "kernelspec": {
   "display_name": "models",
   "language": "python",
   "name": "models"
  },
  "language_info": {
   "codemirror_mode": {
    "name": "ipython",
    "version": 3
   },
   "file_extension": ".py",
   "mimetype": "text/x-python",
   "name": "python",
   "nbconvert_exporter": "python",
   "pygments_lexer": "ipython3",
   "version": "3.8.5"
  }
 },
 "nbformat": 4,
 "nbformat_minor": 4
}

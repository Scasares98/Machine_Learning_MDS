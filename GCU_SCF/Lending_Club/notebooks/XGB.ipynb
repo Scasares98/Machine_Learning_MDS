{
 "cells": [
  {
   "cell_type": "markdown",
   "metadata": {},
   "source": [
    "# XGBOOST"
   ]
  },
  {
   "cell_type": "markdown",
   "metadata": {},
   "source": [
    "## 1. Definition"
   ]
  },
  {
   "cell_type": "markdown",
   "metadata": {},
   "source": [
    "## 2. Libraries"
   ]
  },
  {
   "cell_type": "code",
   "execution_count": 33,
   "metadata": {},
   "outputs": [],
   "source": [
    "import pandas as pd\n",
    "import numpy as np\n",
    "\n",
    "from sklearn.model_selection import train_test_split\n",
    "import xgboost as xgb\n",
    "from sklearn.model_selection import GridSearchCV\n",
    "from sklearn.metrics import accuracy_score\n",
    "\n",
    "from sklearn.metrics import confusion_matrix\n",
    "import seaborn as sns\n",
    "\n",
    "import scikitplot as skplt\n",
    "from sklearn.metrics import roc_auc_score\n",
    "from sklearn.metrics import roc_curve\n",
    "import matplotlib.pyplot as plt \n",
    "\n",
    "from sklearn.metrics import roc_auc_score, roc_curve, plot_roc_curve\n",
    "from sklearn import metrics\n",
    "\n",
    "from sklearn.metrics import classification_report\n",
    "\n",
    "import pickle "
   ]
  },
  {
   "cell_type": "markdown",
   "metadata": {},
   "source": [
    "## 3. Load Data"
   ]
  },
  {
   "cell_type": "code",
   "execution_count": 8,
   "metadata": {},
   "outputs": [
    {
     "data": {
      "text/plain": [
       "(460541, 50)"
      ]
     },
     "execution_count": 8,
     "metadata": {},
     "output_type": "execute_result"
    }
   ],
   "source": [
    "loan = pd.read_csv('../data/BB.DD_MODELOS.csv')\n",
    "loan.shape"
   ]
  },
  {
   "cell_type": "code",
   "execution_count": null,
   "metadata": {},
   "outputs": [],
   "source": [
    "loan.head()"
   ]
  },
  {
   "cell_type": "code",
   "execution_count": 9,
   "metadata": {},
   "outputs": [
    {
     "data": {
      "text/html": [
       "<div>\n",
       "<style scoped>\n",
       "    .dataframe tbody tr th:only-of-type {\n",
       "        vertical-align: middle;\n",
       "    }\n",
       "\n",
       "    .dataframe tbody tr th {\n",
       "        vertical-align: top;\n",
       "    }\n",
       "\n",
       "    .dataframe thead th {\n",
       "        text-align: right;\n",
       "    }\n",
       "</style>\n",
       "<table border=\"1\" class=\"dataframe\">\n",
       "  <thead>\n",
       "    <tr style=\"text-align: right;\">\n",
       "      <th></th>\n",
       "      <th>loan_acceptance</th>\n",
       "      <th>('acc_now_delinq',)</th>\n",
       "      <th>('acc_open_past_24mths',)</th>\n",
       "      <th>('all_util',)</th>\n",
       "      <th>('annual_inc',)</th>\n",
       "      <th>('avg_cur_bal',)</th>\n",
       "      <th>('bc_util',)</th>\n",
       "      <th>('collections_12_mths_ex_med',)</th>\n",
       "      <th>('delinq_2yrs',)</th>\n",
       "      <th>('delinq_amnt',)</th>\n",
       "      <th>...</th>\n",
       "      <th>('tax_liens',)</th>\n",
       "      <th>('tot_cur_bal',)</th>\n",
       "      <th>('total_acc',)</th>\n",
       "      <th>('total_bal_ex_mort',)</th>\n",
       "      <th>('total_bc_limit',)</th>\n",
       "      <th>('total_cu_tl',)</th>\n",
       "      <th>('total_rev_hi_lim',)</th>\n",
       "      <th>('MORTGAGE',)</th>\n",
       "      <th>('OWN',)</th>\n",
       "      <th>('RENT',)</th>\n",
       "    </tr>\n",
       "  </thead>\n",
       "  <tbody>\n",
       "    <tr>\n",
       "      <th>0</th>\n",
       "      <td>1</td>\n",
       "      <td>-0.070414</td>\n",
       "      <td>1.010683</td>\n",
       "      <td>-4.391856</td>\n",
       "      <td>1.169092</td>\n",
       "      <td>0.632931</td>\n",
       "      <td>-1.756350</td>\n",
       "      <td>-0.121123</td>\n",
       "      <td>-0.373769</td>\n",
       "      <td>-0.018151</td>\n",
       "      <td>...</td>\n",
       "      <td>-0.136687</td>\n",
       "      <td>1.966093</td>\n",
       "      <td>1.645054</td>\n",
       "      <td>1.082435</td>\n",
       "      <td>0.364780</td>\n",
       "      <td>3.872116</td>\n",
       "      <td>0.169542</td>\n",
       "      <td>-0.990665</td>\n",
       "      <td>2.932031</td>\n",
       "      <td>-0.817319</td>\n",
       "    </tr>\n",
       "    <tr>\n",
       "      <th>1</th>\n",
       "      <td>1</td>\n",
       "      <td>-0.070414</td>\n",
       "      <td>-0.889720</td>\n",
       "      <td>2.588767</td>\n",
       "      <td>-0.388652</td>\n",
       "      <td>-0.712121</td>\n",
       "      <td>1.344204</td>\n",
       "      <td>-0.121123</td>\n",
       "      <td>-0.373769</td>\n",
       "      <td>-0.018151</td>\n",
       "      <td>...</td>\n",
       "      <td>-0.136687</td>\n",
       "      <td>-0.865215</td>\n",
       "      <td>-1.644651</td>\n",
       "      <td>-0.937178</td>\n",
       "      <td>-0.813060</td>\n",
       "      <td>-1.373566</td>\n",
       "      <td>-0.787800</td>\n",
       "      <td>-0.990665</td>\n",
       "      <td>-0.341061</td>\n",
       "      <td>1.223512</td>\n",
       "    </tr>\n",
       "    <tr>\n",
       "      <th>2</th>\n",
       "      <td>1</td>\n",
       "      <td>-0.070414</td>\n",
       "      <td>2.594353</td>\n",
       "      <td>-3.840754</td>\n",
       "      <td>0.518772</td>\n",
       "      <td>0.083906</td>\n",
       "      <td>-1.236562</td>\n",
       "      <td>-0.121123</td>\n",
       "      <td>-0.373769</td>\n",
       "      <td>-0.018151</td>\n",
       "      <td>...</td>\n",
       "      <td>-0.136687</td>\n",
       "      <td>0.889188</td>\n",
       "      <td>0.082444</td>\n",
       "      <td>-0.081508</td>\n",
       "      <td>3.037755</td>\n",
       "      <td>3.872116</td>\n",
       "      <td>1.523901</td>\n",
       "      <td>1.009422</td>\n",
       "      <td>-0.341061</td>\n",
       "      <td>-0.817319</td>\n",
       "    </tr>\n",
       "    <tr>\n",
       "      <th>3</th>\n",
       "      <td>1</td>\n",
       "      <td>-0.070414</td>\n",
       "      <td>0.693949</td>\n",
       "      <td>-4.391856</td>\n",
       "      <td>-0.358722</td>\n",
       "      <td>-0.783204</td>\n",
       "      <td>-1.443750</td>\n",
       "      <td>-0.121123</td>\n",
       "      <td>-0.373769</td>\n",
       "      <td>-0.018151</td>\n",
       "      <td>...</td>\n",
       "      <td>-0.136687</td>\n",
       "      <td>-0.830447</td>\n",
       "      <td>-0.411012</td>\n",
       "      <td>-0.823391</td>\n",
       "      <td>-0.082319</td>\n",
       "      <td>-1.373566</td>\n",
       "      <td>-0.081056</td>\n",
       "      <td>-0.990665</td>\n",
       "      <td>-0.341061</td>\n",
       "      <td>1.223512</td>\n",
       "    </tr>\n",
       "    <tr>\n",
       "      <th>4</th>\n",
       "      <td>1</td>\n",
       "      <td>-0.070414</td>\n",
       "      <td>0.060482</td>\n",
       "      <td>3.690971</td>\n",
       "      <td>-0.010558</td>\n",
       "      <td>1.173048</td>\n",
       "      <td>1.020700</td>\n",
       "      <td>-0.121123</td>\n",
       "      <td>0.716465</td>\n",
       "      <td>-0.018151</td>\n",
       "      <td>...</td>\n",
       "      <td>-0.136687</td>\n",
       "      <td>-0.074671</td>\n",
       "      <td>-1.315681</td>\n",
       "      <td>-0.468803</td>\n",
       "      <td>-0.841905</td>\n",
       "      <td>-1.373566</td>\n",
       "      <td>-0.804695</td>\n",
       "      <td>1.009422</td>\n",
       "      <td>-0.341061</td>\n",
       "      <td>-0.817319</td>\n",
       "    </tr>\n",
       "  </tbody>\n",
       "</table>\n",
       "<p>5 rows × 49 columns</p>\n",
       "</div>"
      ],
      "text/plain": [
       "   loan_acceptance  ('acc_now_delinq',)  ('acc_open_past_24mths',)  \\\n",
       "0                1            -0.070414                   1.010683   \n",
       "1                1            -0.070414                  -0.889720   \n",
       "2                1            -0.070414                   2.594353   \n",
       "3                1            -0.070414                   0.693949   \n",
       "4                1            -0.070414                   0.060482   \n",
       "\n",
       "   ('all_util',)  ('annual_inc',)  ('avg_cur_bal',)  ('bc_util',)  \\\n",
       "0      -4.391856         1.169092          0.632931     -1.756350   \n",
       "1       2.588767        -0.388652         -0.712121      1.344204   \n",
       "2      -3.840754         0.518772          0.083906     -1.236562   \n",
       "3      -4.391856        -0.358722         -0.783204     -1.443750   \n",
       "4       3.690971        -0.010558          1.173048      1.020700   \n",
       "\n",
       "   ('collections_12_mths_ex_med',)  ('delinq_2yrs',)  ('delinq_amnt',)  ...  \\\n",
       "0                        -0.121123         -0.373769         -0.018151  ...   \n",
       "1                        -0.121123         -0.373769         -0.018151  ...   \n",
       "2                        -0.121123         -0.373769         -0.018151  ...   \n",
       "3                        -0.121123         -0.373769         -0.018151  ...   \n",
       "4                        -0.121123          0.716465         -0.018151  ...   \n",
       "\n",
       "   ('tax_liens',)  ('tot_cur_bal',)  ('total_acc',)  ('total_bal_ex_mort',)  \\\n",
       "0       -0.136687          1.966093        1.645054                1.082435   \n",
       "1       -0.136687         -0.865215       -1.644651               -0.937178   \n",
       "2       -0.136687          0.889188        0.082444               -0.081508   \n",
       "3       -0.136687         -0.830447       -0.411012               -0.823391   \n",
       "4       -0.136687         -0.074671       -1.315681               -0.468803   \n",
       "\n",
       "   ('total_bc_limit',)  ('total_cu_tl',)  ('total_rev_hi_lim',)  \\\n",
       "0             0.364780          3.872116               0.169542   \n",
       "1            -0.813060         -1.373566              -0.787800   \n",
       "2             3.037755          3.872116               1.523901   \n",
       "3            -0.082319         -1.373566              -0.081056   \n",
       "4            -0.841905         -1.373566              -0.804695   \n",
       "\n",
       "   ('MORTGAGE',)  ('OWN',)  ('RENT',)  \n",
       "0      -0.990665  2.932031  -0.817319  \n",
       "1      -0.990665 -0.341061   1.223512  \n",
       "2       1.009422 -0.341061  -0.817319  \n",
       "3      -0.990665 -0.341061   1.223512  \n",
       "4       1.009422 -0.341061  -0.817319  \n",
       "\n",
       "[5 rows x 49 columns]"
      ]
     },
     "execution_count": 9,
     "metadata": {},
     "output_type": "execute_result"
    }
   ],
   "source": [
    "data = loan.iloc[:,1:]\n",
    "data.head()"
   ]
  },
  {
   "cell_type": "code",
   "execution_count": 10,
   "metadata": {},
   "outputs": [],
   "source": [
    "X = data.drop(['loan_acceptance'], axis = 1).values\n",
    "Y = data['loan_acceptance'].values\n",
    "X_train, X_test, Y_train, Y_test = train_test_split(X, Y, test_size = 0.1) # 90% Train 10% Test "
   ]
  },
  {
   "cell_type": "markdown",
   "metadata": {},
   "source": [
    "## 4. XGBOOST Model"
   ]
  },
  {
   "cell_type": "code",
   "execution_count": 6,
   "metadata": {},
   "outputs": [
    {
     "name": "stdout",
     "output_type": "stream",
     "text": [
      "CPU times: user 5min 51s, sys: 3.68 s, total: 5min 55s\n",
      "Wall time: 1min 52s\n"
     ]
    },
    {
     "data": {
      "text/plain": [
       "XGBClassifier(base_score=0.5, booster='gbtree', colsample_bylevel=1,\n",
       "              colsample_bynode=1, colsample_bytree=1, gamma=0, gpu_id=-1,\n",
       "              importance_type='gain', interaction_constraints='',\n",
       "              learning_rate=0.300000012, max_delta_step=0, max_depth=6,\n",
       "              min_child_weight=1, missing=nan, monotone_constraints='()',\n",
       "              n_estimators=100, n_jobs=0, num_parallel_tree=1, random_state=0,\n",
       "              reg_alpha=0, reg_lambda=1, scale_pos_weight=1, subsample=1,\n",
       "              tree_method='exact', validate_parameters=1, verbosity=None)"
      ]
     },
     "execution_count": 6,
     "metadata": {},
     "output_type": "execute_result"
    }
   ],
   "source": [
    "%%time\n",
    "estimator = xgb.XGBClassifier(n_estimators=100)\n",
    "                                                                                                                         \n",
    "estimator.fit(X_train, Y_train)"
   ]
  },
  {
   "cell_type": "code",
   "execution_count": 7,
   "metadata": {},
   "outputs": [
    {
     "name": "stdout",
     "output_type": "stream",
     "text": [
      "[1 1 1 ... 1 1 1]\n"
     ]
    }
   ],
   "source": [
    "pred = estimator.predict(X_test)\n",
    "print(pred)"
   ]
  },
  {
   "cell_type": "code",
   "execution_count": 8,
   "metadata": {
    "scrolled": true
   },
   "outputs": [
    {
     "data": {
      "text/plain": [
       "0.7604386060145478"
      ]
     },
     "execution_count": 8,
     "metadata": {},
     "output_type": "execute_result"
    }
   ],
   "source": [
    "accuracy_score(Y_test, pred)"
   ]
  },
  {
   "cell_type": "markdown",
   "metadata": {},
   "source": [
    "## XGBOOST MODEL hyperparameters"
   ]
  },
  {
   "cell_type": "code",
   "execution_count": 16,
   "metadata": {},
   "outputs": [],
   "source": [
    "param_test = {\n",
    "    'objective' :['binary:logistic'],\n",
    "    'max_depth':[3,5]   \n",
    "}\n",
    "\n",
    "gXGBoost = GridSearchCV(estimator = xgb.XGBClassifier(n_estimators = 100),\n",
    "                        param_grid = param_test, scoring = 'roc_auc', n_jobs=-1)"
   ]
  },
  {
   "cell_type": "code",
   "execution_count": 17,
   "metadata": {},
   "outputs": [
    {
     "name": "stdout",
     "output_type": "stream",
     "text": [
      "CPU times: user 2min 29s, sys: 1.19 s, total: 2min 30s\n",
      "Wall time: 7min 53s\n"
     ]
    },
    {
     "data": {
      "text/plain": [
       "GridSearchCV(estimator=XGBClassifier(base_score=None, booster=None,\n",
       "                                     colsample_bylevel=None,\n",
       "                                     colsample_bynode=None,\n",
       "                                     colsample_bytree=None, gamma=None,\n",
       "                                     gpu_id=None, importance_type='gain',\n",
       "                                     interaction_constraints=None,\n",
       "                                     learning_rate=None, max_delta_step=None,\n",
       "                                     max_depth=None, min_child_weight=None,\n",
       "                                     missing=nan, monotone_constraints=None,\n",
       "                                     n_estimators=100, n_jobs=None,\n",
       "                                     num_parallel_tree=None, random_state=None,\n",
       "                                     reg_alpha=None, reg_lambda=None,\n",
       "                                     scale_pos_weight=None, subsample=None,\n",
       "                                     tree_method=None, validate_parameters=None,\n",
       "                                     verbosity=None),\n",
       "             n_jobs=-1,\n",
       "             param_grid={'max_depth': [3, 5], 'objective': ['binary:logistic']},\n",
       "             scoring='roc_auc')"
      ]
     },
     "execution_count": 17,
     "metadata": {},
     "output_type": "execute_result"
    }
   ],
   "source": [
    "%%time\n",
    "gXGBoost.fit(X_train, Y_train)"
   ]
  },
  {
   "cell_type": "code",
   "execution_count": 18,
   "metadata": {},
   "outputs": [
    {
     "data": {
      "text/plain": [
       "{'max_depth': 5, 'objective': 'binary:logistic'}"
      ]
     },
     "execution_count": 18,
     "metadata": {},
     "output_type": "execute_result"
    }
   ],
   "source": [
    "gXGBoost.best_params_"
   ]
  },
  {
   "cell_type": "code",
   "execution_count": 19,
   "metadata": {},
   "outputs": [
    {
     "data": {
      "text/plain": [
       "XGBClassifier(base_score=0.5, booster='gbtree', colsample_bylevel=1,\n",
       "              colsample_bynode=1, colsample_bytree=1, gamma=0, gpu_id=-1,\n",
       "              importance_type='gain', interaction_constraints='',\n",
       "              learning_rate=0.300000012, max_delta_step=0, max_depth=5,\n",
       "              min_child_weight=1, missing=nan, monotone_constraints='()',\n",
       "              n_estimators=100, n_jobs=0, num_parallel_tree=1, random_state=0,\n",
       "              reg_alpha=0, reg_lambda=1, scale_pos_weight=1, subsample=1,\n",
       "              tree_method='exact', validate_parameters=1, verbosity=None)"
      ]
     },
     "execution_count": 19,
     "metadata": {},
     "output_type": "execute_result"
    }
   ],
   "source": [
    "gXGBoost.best_estimator_"
   ]
  },
  {
   "cell_type": "code",
   "execution_count": 21,
   "metadata": {},
   "outputs": [
    {
     "name": "stdout",
     "output_type": "stream",
     "text": [
      "[0 1 1 ... 1 1 1]\n"
     ]
    }
   ],
   "source": [
    "pred = gXGBoost.predict(X_test)\n",
    "\n",
    "print(pred)"
   ]
  },
  {
   "cell_type": "code",
   "execution_count": 22,
   "metadata": {},
   "outputs": [
    {
     "data": {
      "text/plain": [
       "0.7621105200303985"
      ]
     },
     "execution_count": 22,
     "metadata": {},
     "output_type": "execute_result"
    }
   ],
   "source": [
    "accuracy_score(Y_test, pred)"
   ]
  },
  {
   "cell_type": "markdown",
   "metadata": {},
   "source": [
    "### Confusion Matrix"
   ]
  },
  {
   "cell_type": "code",
   "execution_count": 23,
   "metadata": {},
   "outputs": [],
   "source": [
    "confusion_matrix = confusion_matrix(Y_test, pred)\n",
    "confusion_matrix = pd.DataFrame(confusion_matrix)"
   ]
  },
  {
   "cell_type": "code",
   "execution_count": 24,
   "metadata": {},
   "outputs": [],
   "source": [
    "def conf_matrix(Y_test, pred):\n",
    "    conf_plot = sns.heatmap(confusion_matrix, annot=True, cmap='Blues', fmt='g')\n",
    "    bottom, top = conf_plot.get_ylim()\n",
    "    conf_plot.set_ylim(bottom + 0.5, top - 0.5)\n",
    "    conf_plot.set_ylabel('Predicted Label')\n",
    "    conf_plot.set_xlabel('True Label');"
   ]
  },
  {
   "cell_type": "code",
   "execution_count": 25,
   "metadata": {
    "scrolled": true
   },
   "outputs": [
    {
     "data": {
      "image/png": "[encoded data removed]",
      "text/plain": [
       "<Figure size 432x288 with 2 Axes>"
      ]
     },
     "metadata": {
      "needs_background": "light"
     },
     "output_type": "display_data"
    }
   ],
   "source": [
    "conf_matrix(Y_test, pred)"
   ]
  },
  {
   "cell_type": "markdown",
   "metadata": {},
   "source": [
    "Like in the other models, our XGBoost predict well the good payers. In the right part of the confusion matrix we observe a good proportion of good-payers detected. \n",
    "Nevertheless, we have problems to detect the non payers. We can \n"
   ]
  },
  {
   "cell_type": "markdown",
   "metadata": {},
   "source": [
    "### Confusion Matrix Normalized"
   ]
  },
  {
   "cell_type": "code",
   "execution_count": 38,
   "metadata": {
    "scrolled": true
   },
   "outputs": [],
   "source": [
    "confusion_matrix_normalize = confusion_matrix(Y_test, pred, normalize = 'pred')\n",
    "confusion_matrix_normalize = pd.DataFrame(confusion_matrix_normalize)"
   ]
  },
  {
   "cell_type": "code",
   "execution_count": 41,
   "metadata": {},
   "outputs": [],
   "source": [
    "def conf_matrix(Y_test, pred):\n",
    "    conf_plot = sns.heatmap(confusion_matrix_normalize, annot=True, cmap='Blues', fmt='g')\n",
    "    bottom, top = conf_plot.get_ylim()\n",
    "    conf_plot.set_ylim(bottom + 0.5, top - 0.5)\n",
    "    conf_plot.set_title(\"Confusion matrix\")"
   ]
  },
  {
   "cell_type": "code",
   "execution_count": 42,
   "metadata": {
    "scrolled": true
   },
   "outputs": [
    {
     "data": {
      "image/png": "[encoded data removed]",
      "text/plain": [
       "<Figure size 432x288 with 2 Axes>"
      ]
     },
     "metadata": {
      "needs_background": "light"
     },
     "output_type": "display_data"
    }
   ],
   "source": [
    "conf_matrix(Y_test, pred)"
   ]
  },
  {
   "cell_type": "markdown",
   "metadata": {},
   "source": [
    "### ROC Curve"
   ]
  },
  {
   "cell_type": "code",
   "execution_count": 31,
   "metadata": {
    "scrolled": false
   },
   "outputs": [
    {
     "data": {
      "image/png": "[encoded data removed]",
      "text/plain": [
       "<Figure size 432x288 with 1 Axes>"
      ]
     },
     "metadata": {
      "needs_background": "light"
     },
     "output_type": "display_data"
    }
   ],
   "source": [
    "metrics.plot_roc_curve(gXGBoost, X_test, Y_test)\n",
    "plt.show()"
   ]
  },
  {
   "cell_type": "markdown",
   "metadata": {},
   "source": [
    "The area below the curve show a good area. The biggest area below means better model. The statistic that we can see in the low-right part is one statistic to compare the models"
   ]
  },
  {
   "cell_type": "markdown",
   "metadata": {},
   "source": [
    "### Cumulative Gains Curve "
   ]
  },
  {
   "cell_type": "code",
   "execution_count": 34,
   "metadata": {},
   "outputs": [],
   "source": [
    "predicted_probas = gXGBoost.predict_proba(X_test)"
   ]
  },
  {
   "cell_type": "code",
   "execution_count": 35,
   "metadata": {},
   "outputs": [
    {
     "data": {
      "image/png": "[encoded data removed]",
      "text/plain": [
       "<Figure size 432x288 with 1 Axes>"
      ]
     },
     "metadata": {
      "needs_background": "light"
     },
     "output_type": "display_data"
    }
   ],
   "source": [
    "skplt.metrics.plot_cumulative_gain(Y_test, predicted_probas)\n",
    "plt.show()"
   ]
  },
  {
   "cell_type": "markdown",
   "metadata": {},
   "source": [
    "### Lift Curve"
   ]
  },
  {
   "cell_type": "code",
   "execution_count": 36,
   "metadata": {},
   "outputs": [
    {
     "data": {
      "image/png": "[encoded data removed]",
      "text/plain": [
       "<Figure size 432x288 with 1 Axes>"
      ]
     },
     "metadata": {
      "needs_background": "light"
     },
     "output_type": "display_data"
    }
   ],
   "source": [
    "skplt.metrics.plot_lift_curve(Y_test, predicted_probas)\n",
    "plt.show()"
   ]
  },
  {
   "cell_type": "markdown",
   "metadata": {},
   "source": [
    "### Histogram"
   ]
  },
  {
   "cell_type": "code",
   "execution_count": 37,
   "metadata": {},
   "outputs": [
    {
     "data": {
      "text/plain": [
       "Text(0, 0.5, 'Frequency')"
      ]
     },
     "execution_count": 37,
     "metadata": {},
     "output_type": "execute_result"
    },
    {
     "data": {
      "image/png": "[encoded data removed]",
      "text/plain": [
       "<Figure size 432x288 with 1 Axes>"
      ]
     },
     "metadata": {
      "needs_background": "light"
     },
     "output_type": "display_data"
    }
   ],
   "source": [
    "y_pred_prob = predicted_probas[:, 1]\n",
    "\n",
    "plt.rcParams['font.size'] = 12\n",
    "plt.hist(y_pred_prob, bins=25,facecolor='royalblue', edgecolor = 'black')\n",
    "plt.xlim(0,1)\n",
    "plt.title('Histogram of predicted probabilities')\n",
    "plt.xlabel('Predicted probability')\n",
    "plt.ylabel('Frequency')"
   ]
  },
  {
   "cell_type": "markdown",
   "metadata": {},
   "source": [
    "### Model Statistics"
   ]
  },
  {
   "cell_type": "code",
   "execution_count": 44,
   "metadata": {},
   "outputs": [
    {
     "name": "stdout",
     "output_type": "stream",
     "text": [
      "              precision    recall  f1-score   support\n",
      "\n",
      "           0       0.58      0.18      0.28     11521\n",
      "           1       0.78      0.95      0.86     34534\n",
      "\n",
      "    accuracy                           0.76     46055\n",
      "   macro avg       0.68      0.57      0.57     46055\n",
      "weighted avg       0.73      0.76      0.71     46055\n",
      "\n"
     ]
    }
   ],
   "source": [
    "print(classification_report(Y_test, pred))"
   ]
  },
  {
   "cell_type": "markdown",
   "metadata": {},
   "source": [
    "### Save the model \n"
   ]
  },
  {
   "cell_type": "code",
   "execution_count": 43,
   "metadata": {},
   "outputs": [],
   "source": [
    "model = gXGBoost\n",
    "filename = 'XGB.sav'\n",
    "pickle.dump(model, open(filename, 'wb'))"
   ]
  }
 ],
 "metadata": {
  "kernelspec": {
   "display_name": "Python 3",
   "language": "python",
   "name": "python3"
  },
  "language_info": {
   "codemirror_mode": {
    "name": "ipython",
    "version": 3
   },
   "file_extension": ".py",
   "mimetype": "text/x-python",
   "name": "python",
   "nbconvert_exporter": "python",
   "pygments_lexer": "ipython3",
   "version": "3.8.3"
  }
 },
 "nbformat": 4,
 "nbformat_minor": 4
}

{
 "cells": [
  {
   "cell_type": "markdown",
   "metadata": {},
   "source": [
    "# EDA Analysis of a dataset\n",
    "## File name: Drug overdose deaths (Accidental drug related deaths during 2012-2018)\n",
    "\n",
    "__Description:__ El dataset cuenta con 5105 observaciones y 42 variables (17 de ellas relacionadas con el tipo de droga consumida), otras variables se centran en características biológicas como Sexo, Edad o Raza y por otra parte existen otras variables que se centran en el lugar de la muerte y de la residencia de la persona.\n",
    "\n",
    "__Link dataset:__ https://www.kaggle.com/ruchi798/drug-overdose-deaths\n",
    "\n",
    "__Source_1:__ https://towardsdatascience.com/exploratory-data-analysis-eda-python-87178e35b14#:~:text=EDA%20in%20Python%20uses%20data,which%20can%20have%20repercussions%20later\n",
    "\n",
    "__Source_2:__ https://towardsdatascience.com/exploratory-data-analysis-in-python-c9a77dfa39ce"
   ]
  },
  {
   "cell_type": "markdown",
   "metadata": {},
   "source": [
    "### 1. Data sourcing and library import\n",
    "\n",
    "Importamos todo el conjunto de librerías necesarias para poder realizar el análisis exploratorio de nuestro dataset. Utilizaremos principalmente las librerías de Numpy, Panda, Matplotlib y Seaborn."
   ]
  },
  {
   "cell_type": "code",
   "execution_count": 1,
   "metadata": {},
   "outputs": [],
   "source": [
    "import numpy as np\n",
    "import pandas as pd\n",
    "import matplotlib as mpl\n",
    "import seaborn as sns\n",
    "import matplotlib.pyplot as plt"
   ]
  },
  {
   "cell_type": "markdown",
   "metadata": {},
   "source": [
    "Importamos el dataset y lo nombraremos a partir de ahora como \"drug\""
   ]
  },
  {
   "cell_type": "code",
   "execution_count": 3,
   "metadata": {},
   "outputs": [],
   "source": [
    "drug = pd.read_csv('./drug_deaths.csv', sep = \",\")"
   ]
  },
  {
   "cell_type": "markdown",
   "metadata": {},
   "source": [
    "### 2. Data description\n",
    "\n",
    "En este apartado del trabajo nos centraremos en la mera descripción y exposición del dataset, exponinedo las variables que lo conforman, su significado o el tipo del variable que es."
   ]
  },
  {
   "cell_type": "code",
   "execution_count": 4,
   "metadata": {},
   "outputs": [
    {
     "data": {
      "text/plain": [
       "Index(['Unnamed: 0', 'ID', 'Date', 'DateType', 'Age', 'Sex', 'Race',\n",
       "       'ResidenceCity', 'ResidenceCounty', 'ResidenceState', 'DeathCity',\n",
       "       'DeathCounty', 'Location', 'LocationifOther', 'DescriptionofInjury',\n",
       "       'InjuryPlace', 'InjuryCity', 'InjuryCounty', 'InjuryState', 'COD',\n",
       "       'OtherSignifican', 'Heroin', 'Cocaine', 'Fentanyl', 'Fentanyl_Analogue',\n",
       "       'Oxycodone', 'Oxymorphone', 'Ethanol', 'Hydrocodone', 'Benzodiazepine',\n",
       "       'Methadone', 'Amphet', 'Tramad', 'Morphine_NotHeroin', 'Hydromorphone',\n",
       "       'Other', 'OpiateNOS', 'AnyOpioid', 'MannerofDeath', 'DeathCityGeo',\n",
       "       'ResidenceCityGeo', 'InjuryCityGeo'],\n",
       "      dtype='object')"
      ]
     },
     "execution_count": 4,
     "metadata": {},
     "output_type": "execute_result"
    }
   ],
   "source": [
    "drug.columns"
   ]
  },
  {
   "cell_type": "code",
   "execution_count": 5,
   "metadata": {},
   "outputs": [
    {
     "data": {
      "text/html": [
       "<div>\n",
       "<style scoped>\n",
       "    .dataframe tbody tr th:only-of-type {\n",
       "        vertical-align: middle;\n",
       "    }\n",
       "\n",
       "    .dataframe tbody tr th {\n",
       "        vertical-align: top;\n",
       "    }\n",
       "\n",
       "    .dataframe thead th {\n",
       "        text-align: right;\n",
       "    }\n",
       "</style>\n",
       "<table border=\"1\" class=\"dataframe\">\n",
       "  <thead>\n",
       "    <tr style=\"text-align: right;\">\n",
       "      <th></th>\n",
       "      <th>Unnamed: 0</th>\n",
       "      <th>ID</th>\n",
       "      <th>Date</th>\n",
       "      <th>DateType</th>\n",
       "      <th>Age</th>\n",
       "      <th>Sex</th>\n",
       "      <th>Race</th>\n",
       "      <th>ResidenceCity</th>\n",
       "      <th>ResidenceCounty</th>\n",
       "      <th>ResidenceState</th>\n",
       "      <th>...</th>\n",
       "      <th>Tramad</th>\n",
       "      <th>Morphine_NotHeroin</th>\n",
       "      <th>Hydromorphone</th>\n",
       "      <th>Other</th>\n",
       "      <th>OpiateNOS</th>\n",
       "      <th>AnyOpioid</th>\n",
       "      <th>MannerofDeath</th>\n",
       "      <th>DeathCityGeo</th>\n",
       "      <th>ResidenceCityGeo</th>\n",
       "      <th>InjuryCityGeo</th>\n",
       "    </tr>\n",
       "  </thead>\n",
       "  <tbody>\n",
       "    <tr>\n",
       "      <th>0</th>\n",
       "      <td>0</td>\n",
       "      <td>14-0273</td>\n",
       "      <td>06/28/2014 12:00:00 AM</td>\n",
       "      <td>1.0</td>\n",
       "      <td>NaN</td>\n",
       "      <td>NaN</td>\n",
       "      <td>NaN</td>\n",
       "      <td>NaN</td>\n",
       "      <td>NaN</td>\n",
       "      <td>NaN</td>\n",
       "      <td>...</td>\n",
       "      <td>0</td>\n",
       "      <td>0</td>\n",
       "      <td>0</td>\n",
       "      <td>NaN</td>\n",
       "      <td>0</td>\n",
       "      <td>0</td>\n",
       "      <td>Accident</td>\n",
       "      <td>CT\\n(41.575155, -72.738288)</td>\n",
       "      <td>CT\\n(41.575155, -72.738288)</td>\n",
       "      <td>CT\\n(41.575155, -72.738288)</td>\n",
       "    </tr>\n",
       "    <tr>\n",
       "      <th>1</th>\n",
       "      <td>1</td>\n",
       "      <td>13-0102</td>\n",
       "      <td>03/21/2013 12:00:00 AM</td>\n",
       "      <td>0.0</td>\n",
       "      <td>48.0</td>\n",
       "      <td>Male</td>\n",
       "      <td>Black</td>\n",
       "      <td>NORWALK</td>\n",
       "      <td>NaN</td>\n",
       "      <td>NaN</td>\n",
       "      <td>...</td>\n",
       "      <td>0</td>\n",
       "      <td>0</td>\n",
       "      <td>0</td>\n",
       "      <td>NaN</td>\n",
       "      <td>0</td>\n",
       "      <td>0</td>\n",
       "      <td>Accident</td>\n",
       "      <td>Norwalk, CT\\n(41.11805, -73.412906)</td>\n",
       "      <td>NORWALK, CT\\n(41.11805, -73.412906)</td>\n",
       "      <td>CT\\n(41.575155, -72.738288)</td>\n",
       "    </tr>\n",
       "    <tr>\n",
       "      <th>2</th>\n",
       "      <td>2</td>\n",
       "      <td>16-0165</td>\n",
       "      <td>03/13/2016 12:00:00 AM</td>\n",
       "      <td>0.0</td>\n",
       "      <td>30.0</td>\n",
       "      <td>Female</td>\n",
       "      <td>White</td>\n",
       "      <td>SANDY HOOK</td>\n",
       "      <td>FAIRFIELD</td>\n",
       "      <td>CT</td>\n",
       "      <td>...</td>\n",
       "      <td>0</td>\n",
       "      <td>0</td>\n",
       "      <td>0</td>\n",
       "      <td>NaN</td>\n",
       "      <td>0</td>\n",
       "      <td>1</td>\n",
       "      <td>Accident</td>\n",
       "      <td>Danbury, CT\\n(41.393666, -73.451539)</td>\n",
       "      <td>SANDY HOOK, CT\\n(41.419998, -73.282501)</td>\n",
       "      <td>NaN</td>\n",
       "    </tr>\n",
       "    <tr>\n",
       "      <th>3</th>\n",
       "      <td>3</td>\n",
       "      <td>16-0208</td>\n",
       "      <td>03/31/2016 12:00:00 AM</td>\n",
       "      <td>0.0</td>\n",
       "      <td>23.0</td>\n",
       "      <td>Male</td>\n",
       "      <td>White</td>\n",
       "      <td>RYE</td>\n",
       "      <td>WESTCHESTER</td>\n",
       "      <td>NY</td>\n",
       "      <td>...</td>\n",
       "      <td>0</td>\n",
       "      <td>0</td>\n",
       "      <td>0</td>\n",
       "      <td>NaN</td>\n",
       "      <td>0</td>\n",
       "      <td>1</td>\n",
       "      <td>Accident</td>\n",
       "      <td>Greenwich, CT\\n(41.026526, -73.628549)</td>\n",
       "      <td>NaN</td>\n",
       "      <td>NaN</td>\n",
       "    </tr>\n",
       "    <tr>\n",
       "      <th>4</th>\n",
       "      <td>4</td>\n",
       "      <td>13-0052</td>\n",
       "      <td>02/13/2013 12:00:00 AM</td>\n",
       "      <td>0.0</td>\n",
       "      <td>22.0</td>\n",
       "      <td>Male</td>\n",
       "      <td>Asian, Other</td>\n",
       "      <td>FLUSHING</td>\n",
       "      <td>QUEENS</td>\n",
       "      <td>NaN</td>\n",
       "      <td>...</td>\n",
       "      <td>0</td>\n",
       "      <td>0</td>\n",
       "      <td>0</td>\n",
       "      <td>NaN</td>\n",
       "      <td>0</td>\n",
       "      <td>0</td>\n",
       "      <td>Accident</td>\n",
       "      <td>Greenwich, CT\\n(41.026526, -73.628549)</td>\n",
       "      <td>NaN</td>\n",
       "      <td>CT\\n(41.575155, -72.738288)</td>\n",
       "    </tr>\n",
       "  </tbody>\n",
       "</table>\n",
       "<p>5 rows × 42 columns</p>\n",
       "</div>"
      ],
      "text/plain": [
       "   Unnamed: 0       ID                    Date  DateType   Age     Sex  \\\n",
       "0           0  14-0273  06/28/2014 12:00:00 AM       1.0   NaN     NaN   \n",
       "1           1  13-0102  03/21/2013 12:00:00 AM       0.0  48.0    Male   \n",
       "2           2  16-0165  03/13/2016 12:00:00 AM       0.0  30.0  Female   \n",
       "3           3  16-0208  03/31/2016 12:00:00 AM       0.0  23.0    Male   \n",
       "4           4  13-0052  02/13/2013 12:00:00 AM       0.0  22.0    Male   \n",
       "\n",
       "           Race ResidenceCity ResidenceCounty ResidenceState  ... Tramad  \\\n",
       "0           NaN           NaN             NaN            NaN  ...      0   \n",
       "1         Black       NORWALK             NaN            NaN  ...      0   \n",
       "2         White    SANDY HOOK       FAIRFIELD             CT  ...      0   \n",
       "3         White           RYE     WESTCHESTER             NY  ...      0   \n",
       "4  Asian, Other      FLUSHING          QUEENS            NaN  ...      0   \n",
       "\n",
       "  Morphine_NotHeroin Hydromorphone Other OpiateNOS AnyOpioid MannerofDeath  \\\n",
       "0                  0             0   NaN         0         0      Accident   \n",
       "1                  0             0   NaN         0         0      Accident   \n",
       "2                  0             0   NaN         0         1      Accident   \n",
       "3                  0             0   NaN         0         1      Accident   \n",
       "4                  0             0   NaN         0         0      Accident   \n",
       "\n",
       "                             DeathCityGeo  \\\n",
       "0             CT\\n(41.575155, -72.738288)   \n",
       "1     Norwalk, CT\\n(41.11805, -73.412906)   \n",
       "2    Danbury, CT\\n(41.393666, -73.451539)   \n",
       "3  Greenwich, CT\\n(41.026526, -73.628549)   \n",
       "4  Greenwich, CT\\n(41.026526, -73.628549)   \n",
       "\n",
       "                          ResidenceCityGeo                InjuryCityGeo  \n",
       "0              CT\\n(41.575155, -72.738288)  CT\\n(41.575155, -72.738288)  \n",
       "1      NORWALK, CT\\n(41.11805, -73.412906)  CT\\n(41.575155, -72.738288)  \n",
       "2  SANDY HOOK, CT\\n(41.419998, -73.282501)                          NaN  \n",
       "3                                      NaN                          NaN  \n",
       "4                                      NaN  CT\\n(41.575155, -72.738288)  \n",
       "\n",
       "[5 rows x 42 columns]"
      ]
     },
     "execution_count": 5,
     "metadata": {},
     "output_type": "execute_result"
    }
   ],
   "source": [
    "drug.head(5)"
   ]
  },
  {
   "cell_type": "code",
   "execution_count": 6,
   "metadata": {},
   "outputs": [
    {
     "data": {
      "text/html": [
       "<div>\n",
       "<style scoped>\n",
       "    .dataframe tbody tr th:only-of-type {\n",
       "        vertical-align: middle;\n",
       "    }\n",
       "\n",
       "    .dataframe tbody tr th {\n",
       "        vertical-align: top;\n",
       "    }\n",
       "\n",
       "    .dataframe thead th {\n",
       "        text-align: right;\n",
       "    }\n",
       "</style>\n",
       "<table border=\"1\" class=\"dataframe\">\n",
       "  <thead>\n",
       "    <tr style=\"text-align: right;\">\n",
       "      <th></th>\n",
       "      <th>Unnamed: 0</th>\n",
       "      <th>ID</th>\n",
       "      <th>Date</th>\n",
       "      <th>DateType</th>\n",
       "      <th>Age</th>\n",
       "      <th>Sex</th>\n",
       "      <th>Race</th>\n",
       "      <th>ResidenceCity</th>\n",
       "      <th>ResidenceCounty</th>\n",
       "      <th>ResidenceState</th>\n",
       "      <th>...</th>\n",
       "      <th>Tramad</th>\n",
       "      <th>Morphine_NotHeroin</th>\n",
       "      <th>Hydromorphone</th>\n",
       "      <th>Other</th>\n",
       "      <th>OpiateNOS</th>\n",
       "      <th>AnyOpioid</th>\n",
       "      <th>MannerofDeath</th>\n",
       "      <th>DeathCityGeo</th>\n",
       "      <th>ResidenceCityGeo</th>\n",
       "      <th>InjuryCityGeo</th>\n",
       "    </tr>\n",
       "  </thead>\n",
       "  <tbody>\n",
       "    <tr>\n",
       "      <th>5100</th>\n",
       "      <td>5100</td>\n",
       "      <td>15-0466</td>\n",
       "      <td>09/08/2015 12:00:00 AM</td>\n",
       "      <td>1.0</td>\n",
       "      <td>43.0</td>\n",
       "      <td>Male</td>\n",
       "      <td>White</td>\n",
       "      <td>CHESHIRE</td>\n",
       "      <td>NEW HAVEN</td>\n",
       "      <td>CT</td>\n",
       "      <td>...</td>\n",
       "      <td>0</td>\n",
       "      <td>0</td>\n",
       "      <td>0</td>\n",
       "      <td>NaN</td>\n",
       "      <td>0</td>\n",
       "      <td>0</td>\n",
       "      <td>Accident</td>\n",
       "      <td>CHESHIRE, CT\\n(41.498834, -72.901448)</td>\n",
       "      <td>CHESHIRE, CT\\n(41.498834, -72.901448)</td>\n",
       "      <td>CT\\n(41.575155, -72.738288)</td>\n",
       "    </tr>\n",
       "    <tr>\n",
       "      <th>5101</th>\n",
       "      <td>5101</td>\n",
       "      <td>17-0618</td>\n",
       "      <td>07/22/2017 12:00:00 AM</td>\n",
       "      <td>1.0</td>\n",
       "      <td>21.0</td>\n",
       "      <td>Male</td>\n",
       "      <td>White</td>\n",
       "      <td>MADISON</td>\n",
       "      <td>NEW HAVEN</td>\n",
       "      <td>CT</td>\n",
       "      <td>...</td>\n",
       "      <td>0</td>\n",
       "      <td>0</td>\n",
       "      <td>0</td>\n",
       "      <td>NaN</td>\n",
       "      <td>0</td>\n",
       "      <td>0</td>\n",
       "      <td>Accident</td>\n",
       "      <td>New Haven, CT\\n(41.308252, -72.924161)</td>\n",
       "      <td>MADISON, CT\\n(41.271447, -72.60086)</td>\n",
       "      <td>CT\\n(41.575155, -72.738288)</td>\n",
       "    </tr>\n",
       "    <tr>\n",
       "      <th>5102</th>\n",
       "      <td>5102</td>\n",
       "      <td>18-0646</td>\n",
       "      <td>08/14/2018 12:00:00 AM</td>\n",
       "      <td>0.0</td>\n",
       "      <td>30.0</td>\n",
       "      <td>Male</td>\n",
       "      <td>White</td>\n",
       "      <td>LAWRENCEVILLE</td>\n",
       "      <td>TIOGA</td>\n",
       "      <td>PA</td>\n",
       "      <td>...</td>\n",
       "      <td>1</td>\n",
       "      <td>0</td>\n",
       "      <td>0</td>\n",
       "      <td>NaN</td>\n",
       "      <td>0</td>\n",
       "      <td>1</td>\n",
       "      <td>Accident</td>\n",
       "      <td>DANBURY, CT\\n(41.393666, -73.451539)</td>\n",
       "      <td>NaN</td>\n",
       "      <td>DANBURY, CT\\n(41.393666, -73.451539)</td>\n",
       "    </tr>\n",
       "    <tr>\n",
       "      <th>5103</th>\n",
       "      <td>5103</td>\n",
       "      <td>14-0124</td>\n",
       "      <td>03/16/2014 12:00:00 AM</td>\n",
       "      <td>0.0</td>\n",
       "      <td>33.0</td>\n",
       "      <td>Male</td>\n",
       "      <td>White</td>\n",
       "      <td>HARTFORD</td>\n",
       "      <td>NaN</td>\n",
       "      <td>NaN</td>\n",
       "      <td>...</td>\n",
       "      <td>0</td>\n",
       "      <td>0</td>\n",
       "      <td>0</td>\n",
       "      <td>NaN</td>\n",
       "      <td>0</td>\n",
       "      <td>0</td>\n",
       "      <td>Accident</td>\n",
       "      <td>WINDSOR, CT\\n(41.852781, -72.64379)</td>\n",
       "      <td>HARTFORD, CT\\n(41.765775, -72.673356)</td>\n",
       "      <td>CT\\n(41.575155, -72.738288)</td>\n",
       "    </tr>\n",
       "    <tr>\n",
       "      <th>5104</th>\n",
       "      <td>5104</td>\n",
       "      <td>16-0637</td>\n",
       "      <td>09/15/2016 12:00:00 AM</td>\n",
       "      <td>0.0</td>\n",
       "      <td>33.0</td>\n",
       "      <td>Male</td>\n",
       "      <td>White</td>\n",
       "      <td>THOMASTON</td>\n",
       "      <td>LITCHFIELD</td>\n",
       "      <td>CT</td>\n",
       "      <td>...</td>\n",
       "      <td>0</td>\n",
       "      <td>0</td>\n",
       "      <td>0</td>\n",
       "      <td>NaN</td>\n",
       "      <td>0</td>\n",
       "      <td>1</td>\n",
       "      <td>Accident</td>\n",
       "      <td>WATERBURY, CT\\n(41.554261, -73.043069)</td>\n",
       "      <td>THOMASTON, CT\\n(41.674124, -73.073189)</td>\n",
       "      <td>WATERBURY, CT, CT\\n(41.554261, -73.043069)</td>\n",
       "    </tr>\n",
       "  </tbody>\n",
       "</table>\n",
       "<p>5 rows × 42 columns</p>\n",
       "</div>"
      ],
      "text/plain": [
       "      Unnamed: 0       ID                    Date  DateType   Age   Sex  \\\n",
       "5100        5100  15-0466  09/08/2015 12:00:00 AM       1.0  43.0  Male   \n",
       "5101        5101  17-0618  07/22/2017 12:00:00 AM       1.0  21.0  Male   \n",
       "5102        5102  18-0646  08/14/2018 12:00:00 AM       0.0  30.0  Male   \n",
       "5103        5103  14-0124  03/16/2014 12:00:00 AM       0.0  33.0  Male   \n",
       "5104        5104  16-0637  09/15/2016 12:00:00 AM       0.0  33.0  Male   \n",
       "\n",
       "       Race  ResidenceCity ResidenceCounty ResidenceState  ... Tramad  \\\n",
       "5100  White       CHESHIRE       NEW HAVEN             CT  ...      0   \n",
       "5101  White        MADISON       NEW HAVEN             CT  ...      0   \n",
       "5102  White  LAWRENCEVILLE           TIOGA             PA  ...      1   \n",
       "5103  White       HARTFORD             NaN            NaN  ...      0   \n",
       "5104  White      THOMASTON      LITCHFIELD             CT  ...      0   \n",
       "\n",
       "     Morphine_NotHeroin Hydromorphone Other OpiateNOS AnyOpioid MannerofDeath  \\\n",
       "5100                  0             0   NaN         0         0      Accident   \n",
       "5101                  0             0   NaN         0         0      Accident   \n",
       "5102                  0             0   NaN         0         1      Accident   \n",
       "5103                  0             0   NaN         0         0      Accident   \n",
       "5104                  0             0   NaN         0         1      Accident   \n",
       "\n",
       "                                DeathCityGeo  \\\n",
       "5100   CHESHIRE, CT\\n(41.498834, -72.901448)   \n",
       "5101  New Haven, CT\\n(41.308252, -72.924161)   \n",
       "5102    DANBURY, CT\\n(41.393666, -73.451539)   \n",
       "5103     WINDSOR, CT\\n(41.852781, -72.64379)   \n",
       "5104  WATERBURY, CT\\n(41.554261, -73.043069)   \n",
       "\n",
       "                            ResidenceCityGeo  \\\n",
       "5100   CHESHIRE, CT\\n(41.498834, -72.901448)   \n",
       "5101     MADISON, CT\\n(41.271447, -72.60086)   \n",
       "5102                                     NaN   \n",
       "5103   HARTFORD, CT\\n(41.765775, -72.673356)   \n",
       "5104  THOMASTON, CT\\n(41.674124, -73.073189)   \n",
       "\n",
       "                                   InjuryCityGeo  \n",
       "5100                 CT\\n(41.575155, -72.738288)  \n",
       "5101                 CT\\n(41.575155, -72.738288)  \n",
       "5102        DANBURY, CT\\n(41.393666, -73.451539)  \n",
       "5103                 CT\\n(41.575155, -72.738288)  \n",
       "5104  WATERBURY, CT, CT\\n(41.554261, -73.043069)  \n",
       "\n",
       "[5 rows x 42 columns]"
      ]
     },
     "execution_count": 6,
     "metadata": {},
     "output_type": "execute_result"
    }
   ],
   "source": [
    "drug.tail(5)"
   ]
  },
  {
   "cell_type": "code",
   "execution_count": 7,
   "metadata": {},
   "outputs": [
    {
     "data": {
      "text/plain": [
       "pandas.core.frame.DataFrame"
      ]
     },
     "execution_count": 7,
     "metadata": {},
     "output_type": "execute_result"
    }
   ],
   "source": [
    "type(drug)"
   ]
  },
  {
   "cell_type": "code",
   "execution_count": 8,
   "metadata": {},
   "outputs": [
    {
     "data": {
      "text/plain": [
       "Unnamed: 0               int64\n",
       "ID                      object\n",
       "Date                    object\n",
       "DateType               float64\n",
       "Age                    float64\n",
       "Sex                     object\n",
       "Race                    object\n",
       "ResidenceCity           object\n",
       "ResidenceCounty         object\n",
       "ResidenceState          object\n",
       "DeathCity               object\n",
       "DeathCounty             object\n",
       "Location                object\n",
       "LocationifOther         object\n",
       "DescriptionofInjury     object\n",
       "InjuryPlace             object\n",
       "InjuryCity              object\n",
       "InjuryCounty            object\n",
       "InjuryState             object\n",
       "COD                     object\n",
       "OtherSignifican         object\n",
       "Heroin                   int64\n",
       "Cocaine                  int64\n",
       "Fentanyl                object\n",
       "Fentanyl_Analogue      float64\n",
       "Oxycodone                int64\n",
       "Oxymorphone              int64\n",
       "Ethanol                  int64\n",
       "Hydrocodone              int64\n",
       "Benzodiazepine           int64\n",
       "Methadone                int64\n",
       "Amphet                   int64\n",
       "Tramad                   int64\n",
       "Morphine_NotHeroin      object\n",
       "Hydromorphone            int64\n",
       "Other                   object\n",
       "OpiateNOS                int64\n",
       "AnyOpioid               object\n",
       "MannerofDeath           object\n",
       "DeathCityGeo            object\n",
       "ResidenceCityGeo        object\n",
       "InjuryCityGeo           object\n",
       "dtype: object"
      ]
     },
     "execution_count": 8,
     "metadata": {},
     "output_type": "execute_result"
    }
   ],
   "source": [
    "drug.dtypes"
   ]
  },
  {
   "cell_type": "markdown",
   "metadata": {},
   "source": [
    "### 2.1. Descripción de las variables:\n",
    "\n",
    "* __ID__                      object: número de referencia\n",
    "\n",
    "* __Date__                    object: fecha de \n",
    "\n",
    "* __DateType__               float64: Tipo de fecha\n",
    "\n",
    "* __Age__                    float64: edad\n",
    "\n",
    "* __Sex__                     object: Sexo\n",
    "\n",
    "* __Race__                    object: Raza\n",
    "\n",
    "* __ResidenceCity__           object: Ciudad de residencia\n",
    "\n",
    "* __ResidenceCounty__         object: Condado de residencia\n",
    "\n",
    "* __ResidenceState__          object: Estado de residencia\n",
    "\n",
    "* __DeathCity__               object: Ciudad donde ocurrió el fallecimiento\n",
    "\n",
    "* __DeathCounty__             object: Condado donde ocurrió el fallecimiento\n",
    "\n",
    "* __Location__                object: Localización\n",
    "\n",
    "* __LocationifOther__         object: Localización (si otro)\n",
    "\n",
    "* __DescriptionofInjury__     object: Descripcion de lesiones\n",
    "\n",
    "* __InjuryPlace__             object: Lugar donde ocurrieron las lesiones\n",
    "\n",
    "* __InjuryCity__              object: Ciudad donde ocurrieron las lesiones\n",
    "\n",
    "* __InjuryCounty__            object: Condado donde ocurrieron las lesiones\n",
    "\n",
    "* __InjuryState__             object: Estado donde ocurrieron las lesiones\n",
    "\n",
    "* __COD__                     object: Causa de la muerte\n",
    "\n",
    "* __OtherSignifican__         object: Otros aspectos relevantes del paciente\n",
    "\n",
    "* __Heroin__                   int64: Tipo de droga\n",
    "\n",
    "* __Cocaine__                  int64: Tipo de droga\n",
    "\n",
    "* __Fentanyl__                object: Tipo de droga\n",
    "\n",
    "* __Fentanyl_Analogue__      float64: Tipo de droga\n",
    "\n",
    "* __Oxycodone__                int64: Tipo de droga\n",
    "\n",
    "* __Oxymorphone__              int64: Tipo de droga\n",
    "\n",
    "* __Ethanol__                  int64: Tipo de droga\n",
    "\n",
    "* __Hydrocodone__              int64: Tipo de droga\n",
    "\n",
    "* __Benzodiazepine__           int64: Tipo de droga\n",
    "\n",
    "* __Methadone__                int64: Tipo de droga\n",
    "\n",
    "* __Amphet__                   int64: Tipo de droga\n",
    "\n",
    "* __Tramad__                   int64: Tipo de droga\n",
    "\n",
    "* __Morphine_NotHeroin__      object: Tipo de droga\n",
    "\n",
    "* __Hydromorphone__            int64: Tipo de droga\n",
    "\n",
    "* __Other__                  object: Tipo de droga (otra)\n",
    "\n",
    "* __OpiateNOS__                int64: Tipo de droga\n",
    "\n",
    "* __AnyOpioid__               object: Tipo de droga\n",
    "\n",
    "* __MannerofDeath__           object: Tipo de la muerte\n",
    "\n",
    "* __DeathCityGeo__           object: Localización geográfica (por coordenadas) - Ciudad\n",
    "\n",
    "* __ResidenceCityGeo__        object: Localización geográfica (por coordenadas) - Residencia\n",
    "\n",
    "* __InjuryCityGeo__           object: Localización geográfica (por coordenadas) - Lesiones"
   ]
  },
  {
   "cell_type": "markdown",
   "metadata": {},
   "source": [
    "### 3. Data cleaning\n",
    "\n",
    "En este apartado centraremos nuestro esfuerzo en la limpieza del dataset para que posteriormente se pueda analizar de manera correcta.\n",
    "Eliminaremos variables que aportan poca información o poca relevancia para nuestro análisis exploratorio y no focalizaremos en las más importantes.\n",
    "Eliminaremos valores nulos y filas donde la presencia de valores nulos sea una constante."
   ]
  },
  {
   "cell_type": "code",
   "execution_count": 9,
   "metadata": {},
   "outputs": [
    {
     "data": {
      "text/plain": [
       "Unnamed: 0             5105\n",
       "ID                     5105\n",
       "Date                   5103\n",
       "DateType               5103\n",
       "Age                    5102\n",
       "Sex                    5099\n",
       "Race                   5092\n",
       "ResidenceCity          4932\n",
       "ResidenceCounty        4308\n",
       "ResidenceState         3556\n",
       "DeathCity              5100\n",
       "DeathCounty            4005\n",
       "Location               5081\n",
       "LocationifOther         590\n",
       "DescriptionofInjury    4325\n",
       "InjuryPlace            5039\n",
       "InjuryCity             3349\n",
       "InjuryCounty           2364\n",
       "InjuryState            1424\n",
       "COD                    5105\n",
       "OtherSignifican         169\n",
       "Heroin                 5105\n",
       "Cocaine                5105\n",
       "Fentanyl               5105\n",
       "Fentanyl_Analogue      5105\n",
       "Oxycodone              5105\n",
       "Oxymorphone            5105\n",
       "Ethanol                5105\n",
       "Hydrocodone            5105\n",
       "Benzodiazepine         5105\n",
       "Methadone              5105\n",
       "Amphet                 5105\n",
       "Tramad                 5105\n",
       "Morphine_NotHeroin     5105\n",
       "Hydromorphone          5105\n",
       "Other                   435\n",
       "OpiateNOS              5105\n",
       "AnyOpioid              5105\n",
       "MannerofDeath          5095\n",
       "DeathCityGeo           5105\n",
       "ResidenceCityGeo       5012\n",
       "InjuryCityGeo          5027\n",
       "dtype: int64"
      ]
     },
     "execution_count": 9,
     "metadata": {},
     "output_type": "execute_result"
    }
   ],
   "source": [
    "drug.count()"
   ]
  },
  {
   "cell_type": "code",
   "execution_count": 10,
   "metadata": {},
   "outputs": [
    {
     "data": {
      "text/plain": [
       "Unnamed: 0                0\n",
       "ID                        0\n",
       "Date                      2\n",
       "DateType                  2\n",
       "Age                       3\n",
       "Sex                       6\n",
       "Race                     13\n",
       "ResidenceCity           173\n",
       "ResidenceCounty         797\n",
       "ResidenceState         1549\n",
       "DeathCity                 5\n",
       "DeathCounty            1100\n",
       "Location                 24\n",
       "LocationifOther        4515\n",
       "DescriptionofInjury     780\n",
       "InjuryPlace              66\n",
       "InjuryCity             1756\n",
       "InjuryCounty           2741\n",
       "InjuryState            3681\n",
       "COD                       0\n",
       "OtherSignifican        4936\n",
       "Heroin                    0\n",
       "Cocaine                   0\n",
       "Fentanyl                  0\n",
       "Fentanyl_Analogue         0\n",
       "Oxycodone                 0\n",
       "Oxymorphone               0\n",
       "Ethanol                   0\n",
       "Hydrocodone               0\n",
       "Benzodiazepine            0\n",
       "Methadone                 0\n",
       "Amphet                    0\n",
       "Tramad                    0\n",
       "Morphine_NotHeroin        0\n",
       "Hydromorphone             0\n",
       "Other                  4670\n",
       "OpiateNOS                 0\n",
       "AnyOpioid                 0\n",
       "MannerofDeath            10\n",
       "DeathCityGeo              0\n",
       "ResidenceCityGeo         93\n",
       "InjuryCityGeo            78\n",
       "dtype: int64"
      ]
     },
     "execution_count": 10,
     "metadata": {},
     "output_type": "execute_result"
    }
   ],
   "source": [
    "drug.isnull().sum()"
   ]
  },
  {
   "cell_type": "markdown",
   "metadata": {},
   "source": [
    "Las variables eliminadas (19 en total sobre 42) se eliminar principalmente por varios motrivos:\n",
    "* Solapamiento de información: variables referentes al condado (con definir el Estado y la ciudad es suficiente)\n",
    "* Gran cantidad de valores nulos: como Other, LocationifOther ó InjuryState\n",
    "* No es posible analizar (al menos con nuestro nivel): como las variables \"-Geo\", las cuales aportan la localización geográfica en cordenadas y ordenadas."
   ]
  },
  {
   "cell_type": "code",
   "execution_count": 11,
   "metadata": {},
   "outputs": [],
   "source": [
    "drug = drug.drop(['InjuryCityGeo', 'InjuryPlace', 'InjuryCity','InjuryCounty', 'InjuryState', 'ResidenceCityGeo', 'DeathCityGeo', 'Fentanyl_Analogue', 'InjuryCounty',\n",
    "                  'ResidenceCounty', 'DateType', 'OtherSignifican', 'LocationifOther', 'DeathCounty', 'Other', 'LocationifOther', 'ResidenceState', 'Unnamed: 0', 'DescriptionofInjury' ], axis = 1)"
   ]
  },
  {
   "cell_type": "code",
   "execution_count": 13,
   "metadata": {},
   "outputs": [
    {
     "data": {
      "text/plain": [
       "ID                      0\n",
       "Date                    2\n",
       "Age                     3\n",
       "Sex                     6\n",
       "Race                   13\n",
       "ResidenceCity         173\n",
       "DeathCity               5\n",
       "Location               24\n",
       "COD                     0\n",
       "Heroin                  0\n",
       "Cocaine                 0\n",
       "Fentanyl                0\n",
       "Oxycodone               0\n",
       "Oxymorphone             0\n",
       "Ethanol                 0\n",
       "Hydrocodone             0\n",
       "Benzodiazepine          0\n",
       "Methadone               0\n",
       "Amphet                  0\n",
       "Tramad                  0\n",
       "Morphine_NotHeroin      0\n",
       "Hydromorphone           0\n",
       "OpiateNOS               0\n",
       "AnyOpioid               0\n",
       "MannerofDeath          10\n",
       "dtype: int64"
      ]
     },
     "execution_count": 13,
     "metadata": {},
     "output_type": "execute_result"
    }
   ],
   "source": [
    "drug.isnull().sum()"
   ]
  },
  {
   "cell_type": "code",
   "execution_count": 14,
   "metadata": {},
   "outputs": [],
   "source": [
    "drug = drug.dropna()"
   ]
  },
  {
   "cell_type": "code",
   "execution_count": 15,
   "metadata": {},
   "outputs": [
    {
     "data": {
      "text/plain": [
       "ID                    0\n",
       "Date                  0\n",
       "Age                   0\n",
       "Sex                   0\n",
       "Race                  0\n",
       "ResidenceCity         0\n",
       "DeathCity             0\n",
       "Location              0\n",
       "COD                   0\n",
       "Heroin                0\n",
       "Cocaine               0\n",
       "Fentanyl              0\n",
       "Oxycodone             0\n",
       "Oxymorphone           0\n",
       "Ethanol               0\n",
       "Hydrocodone           0\n",
       "Benzodiazepine        0\n",
       "Methadone             0\n",
       "Amphet                0\n",
       "Tramad                0\n",
       "Morphine_NotHeroin    0\n",
       "Hydromorphone         0\n",
       "OpiateNOS             0\n",
       "AnyOpioid             0\n",
       "MannerofDeath         0\n",
       "dtype: int64"
      ]
     },
     "execution_count": 15,
     "metadata": {},
     "output_type": "execute_result"
    }
   ],
   "source": [
    "drug.isnull().sum()"
   ]
  },
  {
   "cell_type": "code",
   "execution_count": 48,
   "metadata": {},
   "outputs": [
    {
     "data": {
      "text/plain": [
       "ID                    4896\n",
       "Date                  4896\n",
       "Age                   4896\n",
       "Sex                   4896\n",
       "Race                  4896\n",
       "ResidenceCity         4896\n",
       "DeathCity             4896\n",
       "Location              4896\n",
       "COD                   4896\n",
       "Heroin                4896\n",
       "Cocaine               4896\n",
       "Fentanyl              4896\n",
       "Oxycodone             4896\n",
       "Oxymorphone           4896\n",
       "Ethanol               4896\n",
       "Hydrocodone           4896\n",
       "Benzodiazepine        4896\n",
       "Methadone             4896\n",
       "Amphet                4896\n",
       "Tramad                4896\n",
       "Morphine_NotHeroin    4896\n",
       "Hydromorphone         4896\n",
       "OpiateNOS             4896\n",
       "AnyOpioid             4896\n",
       "MannerofDeath         4896\n",
       "dtype: int64"
      ]
     },
     "execution_count": 48,
     "metadata": {},
     "output_type": "execute_result"
    }
   ],
   "source": [
    "drug.count()"
   ]
  },
  {
   "cell_type": "markdown",
   "metadata": {},
   "source": [
    "# 4. Data analysis\n",
    "\n",
    "Este es el apartado principal del trabajo ya que se centra en el análisis, tanto univariante como multivariante.\n",
    "De aquí es de donde se pueden extaer conclusiones acerca de la información que se encuentra en el dataset."
   ]
  },
  {
   "cell_type": "markdown",
   "metadata": {},
   "source": [
    "### 4.1. Univariate analysis\n",
    "\n",
    "Haremos un análisis algo rápido pero eficaz con la función 'describe'; posteriormente analizaremos, de manera individal, las variables más importantes, como la distribución del Sexo, la Raza o la Edad.\n",
    "Analizaremos después la ciudad de residencia y la ciudad de la muerte, también el lugar donde murió (hospital, casa...).\n",
    "Finalmente acabaremos con una gráfica donde se exponga un listado con el número de muertes causada por cada tipo de droga."
   ]
  },
  {
   "cell_type": "code",
   "execution_count": 17,
   "metadata": {},
   "outputs": [
    {
     "data": {
      "text/html": [
       "<div>\n",
       "<style scoped>\n",
       "    .dataframe tbody tr th:only-of-type {\n",
       "        vertical-align: middle;\n",
       "    }\n",
       "\n",
       "    .dataframe tbody tr th {\n",
       "        vertical-align: top;\n",
       "    }\n",
       "\n",
       "    .dataframe thead th {\n",
       "        text-align: right;\n",
       "    }\n",
       "</style>\n",
       "<table border=\"1\" class=\"dataframe\">\n",
       "  <thead>\n",
       "    <tr style=\"text-align: right;\">\n",
       "      <th></th>\n",
       "      <th>ID</th>\n",
       "      <th>Date</th>\n",
       "      <th>Age</th>\n",
       "      <th>Sex</th>\n",
       "      <th>Race</th>\n",
       "      <th>ResidenceCity</th>\n",
       "      <th>DeathCity</th>\n",
       "      <th>Location</th>\n",
       "      <th>COD</th>\n",
       "      <th>Heroin</th>\n",
       "      <th>...</th>\n",
       "      <th>Hydrocodone</th>\n",
       "      <th>Benzodiazepine</th>\n",
       "      <th>Methadone</th>\n",
       "      <th>Amphet</th>\n",
       "      <th>Tramad</th>\n",
       "      <th>Morphine_NotHeroin</th>\n",
       "      <th>Hydromorphone</th>\n",
       "      <th>OpiateNOS</th>\n",
       "      <th>AnyOpioid</th>\n",
       "      <th>MannerofDeath</th>\n",
       "    </tr>\n",
       "  </thead>\n",
       "  <tbody>\n",
       "    <tr>\n",
       "      <th>count</th>\n",
       "      <td>4896</td>\n",
       "      <td>4896</td>\n",
       "      <td>4896.000000</td>\n",
       "      <td>4896</td>\n",
       "      <td>4896</td>\n",
       "      <td>4896</td>\n",
       "      <td>4896</td>\n",
       "      <td>4896</td>\n",
       "      <td>4896</td>\n",
       "      <td>4896.000000</td>\n",
       "      <td>...</td>\n",
       "      <td>4896.000000</td>\n",
       "      <td>4896.000000</td>\n",
       "      <td>4896.000000</td>\n",
       "      <td>4896.000000</td>\n",
       "      <td>4896.000000</td>\n",
       "      <td>4896</td>\n",
       "      <td>4896.000000</td>\n",
       "      <td>4896.000000</td>\n",
       "      <td>4896</td>\n",
       "      <td>4896</td>\n",
       "    </tr>\n",
       "    <tr>\n",
       "      <th>unique</th>\n",
       "      <td>4896</td>\n",
       "      <td>2071</td>\n",
       "      <td>NaN</td>\n",
       "      <td>3</td>\n",
       "      <td>11</td>\n",
       "      <td>369</td>\n",
       "      <td>221</td>\n",
       "      <td>6</td>\n",
       "      <td>3082</td>\n",
       "      <td>NaN</td>\n",
       "      <td>...</td>\n",
       "      <td>NaN</td>\n",
       "      <td>NaN</td>\n",
       "      <td>NaN</td>\n",
       "      <td>NaN</td>\n",
       "      <td>NaN</td>\n",
       "      <td>6</td>\n",
       "      <td>NaN</td>\n",
       "      <td>NaN</td>\n",
       "      <td>3</td>\n",
       "      <td>5</td>\n",
       "    </tr>\n",
       "    <tr>\n",
       "      <th>top</th>\n",
       "      <td>15-0483</td>\n",
       "      <td>06/18/2017 12:00:00 AM</td>\n",
       "      <td>NaN</td>\n",
       "      <td>Male</td>\n",
       "      <td>White</td>\n",
       "      <td>HARTFORD</td>\n",
       "      <td>HARTFORD</td>\n",
       "      <td>Residence</td>\n",
       "      <td>Acute Fentanyl Intoxication</td>\n",
       "      <td>NaN</td>\n",
       "      <td>...</td>\n",
       "      <td>NaN</td>\n",
       "      <td>NaN</td>\n",
       "      <td>NaN</td>\n",
       "      <td>NaN</td>\n",
       "      <td>NaN</td>\n",
       "      <td>0</td>\n",
       "      <td>NaN</td>\n",
       "      <td>NaN</td>\n",
       "      <td>0</td>\n",
       "      <td>Accident</td>\n",
       "    </tr>\n",
       "    <tr>\n",
       "      <th>freq</th>\n",
       "      <td>1</td>\n",
       "      <td>9</td>\n",
       "      <td>NaN</td>\n",
       "      <td>3623</td>\n",
       "      <td>3875</td>\n",
       "      <td>290</td>\n",
       "      <td>526</td>\n",
       "      <td>2664</td>\n",
       "      <td>164</td>\n",
       "      <td>NaN</td>\n",
       "      <td>...</td>\n",
       "      <td>NaN</td>\n",
       "      <td>NaN</td>\n",
       "      <td>NaN</td>\n",
       "      <td>NaN</td>\n",
       "      <td>NaN</td>\n",
       "      <td>4855</td>\n",
       "      <td>NaN</td>\n",
       "      <td>NaN</td>\n",
       "      <td>2525</td>\n",
       "      <td>4868</td>\n",
       "    </tr>\n",
       "    <tr>\n",
       "      <th>mean</th>\n",
       "      <td>NaN</td>\n",
       "      <td>NaN</td>\n",
       "      <td>41.975899</td>\n",
       "      <td>NaN</td>\n",
       "      <td>NaN</td>\n",
       "      <td>NaN</td>\n",
       "      <td>NaN</td>\n",
       "      <td>NaN</td>\n",
       "      <td>NaN</td>\n",
       "      <td>0.496324</td>\n",
       "      <td>...</td>\n",
       "      <td>0.023489</td>\n",
       "      <td>0.265931</td>\n",
       "      <td>0.092729</td>\n",
       "      <td>0.031658</td>\n",
       "      <td>0.025940</td>\n",
       "      <td>NaN</td>\n",
       "      <td>0.004698</td>\n",
       "      <td>0.017361</td>\n",
       "      <td>NaN</td>\n",
       "      <td>NaN</td>\n",
       "    </tr>\n",
       "    <tr>\n",
       "      <th>std</th>\n",
       "      <td>NaN</td>\n",
       "      <td>NaN</td>\n",
       "      <td>12.361371</td>\n",
       "      <td>NaN</td>\n",
       "      <td>NaN</td>\n",
       "      <td>NaN</td>\n",
       "      <td>NaN</td>\n",
       "      <td>NaN</td>\n",
       "      <td>NaN</td>\n",
       "      <td>0.500038</td>\n",
       "      <td>...</td>\n",
       "      <td>0.151465</td>\n",
       "      <td>0.441873</td>\n",
       "      <td>0.290082</td>\n",
       "      <td>0.175107</td>\n",
       "      <td>0.158971</td>\n",
       "      <td>NaN</td>\n",
       "      <td>0.068386</td>\n",
       "      <td>0.130626</td>\n",
       "      <td>NaN</td>\n",
       "      <td>NaN</td>\n",
       "    </tr>\n",
       "    <tr>\n",
       "      <th>min</th>\n",
       "      <td>NaN</td>\n",
       "      <td>NaN</td>\n",
       "      <td>14.000000</td>\n",
       "      <td>NaN</td>\n",
       "      <td>NaN</td>\n",
       "      <td>NaN</td>\n",
       "      <td>NaN</td>\n",
       "      <td>NaN</td>\n",
       "      <td>NaN</td>\n",
       "      <td>0.000000</td>\n",
       "      <td>...</td>\n",
       "      <td>0.000000</td>\n",
       "      <td>0.000000</td>\n",
       "      <td>0.000000</td>\n",
       "      <td>0.000000</td>\n",
       "      <td>0.000000</td>\n",
       "      <td>NaN</td>\n",
       "      <td>0.000000</td>\n",
       "      <td>0.000000</td>\n",
       "      <td>NaN</td>\n",
       "      <td>NaN</td>\n",
       "    </tr>\n",
       "    <tr>\n",
       "      <th>25%</th>\n",
       "      <td>NaN</td>\n",
       "      <td>NaN</td>\n",
       "      <td>32.000000</td>\n",
       "      <td>NaN</td>\n",
       "      <td>NaN</td>\n",
       "      <td>NaN</td>\n",
       "      <td>NaN</td>\n",
       "      <td>NaN</td>\n",
       "      <td>NaN</td>\n",
       "      <td>0.000000</td>\n",
       "      <td>...</td>\n",
       "      <td>0.000000</td>\n",
       "      <td>0.000000</td>\n",
       "      <td>0.000000</td>\n",
       "      <td>0.000000</td>\n",
       "      <td>0.000000</td>\n",
       "      <td>NaN</td>\n",
       "      <td>0.000000</td>\n",
       "      <td>0.000000</td>\n",
       "      <td>NaN</td>\n",
       "      <td>NaN</td>\n",
       "    </tr>\n",
       "    <tr>\n",
       "      <th>50%</th>\n",
       "      <td>NaN</td>\n",
       "      <td>NaN</td>\n",
       "      <td>42.000000</td>\n",
       "      <td>NaN</td>\n",
       "      <td>NaN</td>\n",
       "      <td>NaN</td>\n",
       "      <td>NaN</td>\n",
       "      <td>NaN</td>\n",
       "      <td>NaN</td>\n",
       "      <td>0.000000</td>\n",
       "      <td>...</td>\n",
       "      <td>0.000000</td>\n",
       "      <td>0.000000</td>\n",
       "      <td>0.000000</td>\n",
       "      <td>0.000000</td>\n",
       "      <td>0.000000</td>\n",
       "      <td>NaN</td>\n",
       "      <td>0.000000</td>\n",
       "      <td>0.000000</td>\n",
       "      <td>NaN</td>\n",
       "      <td>NaN</td>\n",
       "    </tr>\n",
       "    <tr>\n",
       "      <th>75%</th>\n",
       "      <td>NaN</td>\n",
       "      <td>NaN</td>\n",
       "      <td>52.000000</td>\n",
       "      <td>NaN</td>\n",
       "      <td>NaN</td>\n",
       "      <td>NaN</td>\n",
       "      <td>NaN</td>\n",
       "      <td>NaN</td>\n",
       "      <td>NaN</td>\n",
       "      <td>1.000000</td>\n",
       "      <td>...</td>\n",
       "      <td>0.000000</td>\n",
       "      <td>1.000000</td>\n",
       "      <td>0.000000</td>\n",
       "      <td>0.000000</td>\n",
       "      <td>0.000000</td>\n",
       "      <td>NaN</td>\n",
       "      <td>0.000000</td>\n",
       "      <td>0.000000</td>\n",
       "      <td>NaN</td>\n",
       "      <td>NaN</td>\n",
       "    </tr>\n",
       "    <tr>\n",
       "      <th>max</th>\n",
       "      <td>NaN</td>\n",
       "      <td>NaN</td>\n",
       "      <td>87.000000</td>\n",
       "      <td>NaN</td>\n",
       "      <td>NaN</td>\n",
       "      <td>NaN</td>\n",
       "      <td>NaN</td>\n",
       "      <td>NaN</td>\n",
       "      <td>NaN</td>\n",
       "      <td>1.000000</td>\n",
       "      <td>...</td>\n",
       "      <td>1.000000</td>\n",
       "      <td>1.000000</td>\n",
       "      <td>1.000000</td>\n",
       "      <td>1.000000</td>\n",
       "      <td>1.000000</td>\n",
       "      <td>NaN</td>\n",
       "      <td>1.000000</td>\n",
       "      <td>1.000000</td>\n",
       "      <td>NaN</td>\n",
       "      <td>NaN</td>\n",
       "    </tr>\n",
       "  </tbody>\n",
       "</table>\n",
       "<p>11 rows × 25 columns</p>\n",
       "</div>"
      ],
      "text/plain": [
       "             ID                    Date          Age   Sex   Race  \\\n",
       "count      4896                    4896  4896.000000  4896   4896   \n",
       "unique     4896                    2071          NaN     3     11   \n",
       "top     15-0483  06/18/2017 12:00:00 AM          NaN  Male  White   \n",
       "freq          1                       9          NaN  3623   3875   \n",
       "mean        NaN                     NaN    41.975899   NaN    NaN   \n",
       "std         NaN                     NaN    12.361371   NaN    NaN   \n",
       "min         NaN                     NaN    14.000000   NaN    NaN   \n",
       "25%         NaN                     NaN    32.000000   NaN    NaN   \n",
       "50%         NaN                     NaN    42.000000   NaN    NaN   \n",
       "75%         NaN                     NaN    52.000000   NaN    NaN   \n",
       "max         NaN                     NaN    87.000000   NaN    NaN   \n",
       "\n",
       "       ResidenceCity DeathCity   Location                          COD  \\\n",
       "count           4896      4896       4896                         4896   \n",
       "unique           369       221          6                         3082   \n",
       "top         HARTFORD  HARTFORD  Residence  Acute Fentanyl Intoxication   \n",
       "freq             290       526       2664                          164   \n",
       "mean             NaN       NaN        NaN                          NaN   \n",
       "std              NaN       NaN        NaN                          NaN   \n",
       "min              NaN       NaN        NaN                          NaN   \n",
       "25%              NaN       NaN        NaN                          NaN   \n",
       "50%              NaN       NaN        NaN                          NaN   \n",
       "75%              NaN       NaN        NaN                          NaN   \n",
       "max              NaN       NaN        NaN                          NaN   \n",
       "\n",
       "             Heroin  ...  Hydrocodone Benzodiazepine    Methadone  \\\n",
       "count   4896.000000  ...  4896.000000    4896.000000  4896.000000   \n",
       "unique          NaN  ...          NaN            NaN          NaN   \n",
       "top             NaN  ...          NaN            NaN          NaN   \n",
       "freq            NaN  ...          NaN            NaN          NaN   \n",
       "mean       0.496324  ...     0.023489       0.265931     0.092729   \n",
       "std        0.500038  ...     0.151465       0.441873     0.290082   \n",
       "min        0.000000  ...     0.000000       0.000000     0.000000   \n",
       "25%        0.000000  ...     0.000000       0.000000     0.000000   \n",
       "50%        0.000000  ...     0.000000       0.000000     0.000000   \n",
       "75%        1.000000  ...     0.000000       1.000000     0.000000   \n",
       "max        1.000000  ...     1.000000       1.000000     1.000000   \n",
       "\n",
       "             Amphet       Tramad  Morphine_NotHeroin  Hydromorphone  \\\n",
       "count   4896.000000  4896.000000                4896    4896.000000   \n",
       "unique          NaN          NaN                   6            NaN   \n",
       "top             NaN          NaN                   0            NaN   \n",
       "freq            NaN          NaN                4855            NaN   \n",
       "mean       0.031658     0.025940                 NaN       0.004698   \n",
       "std        0.175107     0.158971                 NaN       0.068386   \n",
       "min        0.000000     0.000000                 NaN       0.000000   \n",
       "25%        0.000000     0.000000                 NaN       0.000000   \n",
       "50%        0.000000     0.000000                 NaN       0.000000   \n",
       "75%        0.000000     0.000000                 NaN       0.000000   \n",
       "max        1.000000     1.000000                 NaN       1.000000   \n",
       "\n",
       "          OpiateNOS  AnyOpioid  MannerofDeath  \n",
       "count   4896.000000       4896           4896  \n",
       "unique          NaN          3              5  \n",
       "top             NaN          0       Accident  \n",
       "freq            NaN       2525           4868  \n",
       "mean       0.017361        NaN            NaN  \n",
       "std        0.130626        NaN            NaN  \n",
       "min        0.000000        NaN            NaN  \n",
       "25%        0.000000        NaN            NaN  \n",
       "50%        0.000000        NaN            NaN  \n",
       "75%        0.000000        NaN            NaN  \n",
       "max        1.000000        NaN            NaN  \n",
       "\n",
       "[11 rows x 25 columns]"
      ]
     },
     "execution_count": 17,
     "metadata": {},
     "output_type": "execute_result"
    }
   ],
   "source": [
    "drug.describe(include = 'all')"
   ]
  },
  {
   "cell_type": "markdown",
   "metadata": {},
   "source": [
    "### Edad\n",
    "De la gráfica de __edad__ podemos observar dos núcleos de edades, entre 25 y 35 y entre 45 y 60 años, generando un valle entro los 35 y 45 años, es por eso que tiene sentido que la media sea de aproximadamente 42 años.\n",
    "Un dato interesante a la par que inquietantes es darse cuenta que el mínimo son 14 años y el máximo 87."
   ]
  },
  {
   "cell_type": "code",
   "execution_count": 18,
   "metadata": {},
   "outputs": [
    {
     "data": {
      "text/plain": [
       "array([[<AxesSubplot:title={'center':'Age'}>]], dtype=object)"
      ]
     },
     "execution_count": 18,
     "metadata": {},
     "output_type": "execute_result"
    },
    {
     "data": {
      "image/png": "[encoded data removed]",
      "text/plain": [
       "<Figure size 432x288 with 1 Axes>"
      ]
     },
     "metadata": {
      "needs_background": "light"
     },
     "output_type": "display_data"
    }
   ],
   "source": [
    "drug.hist(column = \"Age\", bins = 73, color = 'navy') #min 14 y máx 87"
   ]
  },
  {
   "cell_type": "markdown",
   "metadata": {},
   "source": [
    "### Sexo\n",
    "De la gráfica de __sexo__ podemos observar la gran diferencia entre sexos, ya que de 4896 fallecimientos, 3624 (76%) pertenecen a hombres y 1272 (24%) a mujeres."
   ]
  },
  {
   "cell_type": "code",
   "execution_count": 19,
   "metadata": {},
   "outputs": [
    {
     "data": {
      "text/plain": [
       "Sex\n",
       "Female    1272\n",
       "Male      3624\n",
       "dtype: int64"
      ]
     },
     "execution_count": 19,
     "metadata": {},
     "output_type": "execute_result"
    }
   ],
   "source": [
    "drug['Sex'] = drug['Sex'].replace('Unknown', \"Male\")\n",
    "drug.groupby('Sex').size()"
   ]
  },
  {
   "cell_type": "code",
   "execution_count": 20,
   "metadata": {},
   "outputs": [
    {
     "data": {
      "text/plain": [
       "           Sex   \n",
       "frequency  Female    1272\n",
       "           Male      3624\n",
       "dtype: int64"
      ]
     },
     "execution_count": 20,
     "metadata": {},
     "output_type": "execute_result"
    }
   ],
   "source": [
    "drug_sex = (drug.groupby(\"Sex\").agg(frequency=(\"Sex\", \"count\")).unstack())\n",
    "drug_sex"
   ]
  },
  {
   "cell_type": "code",
   "execution_count": 21,
   "metadata": {},
   "outputs": [
    {
     "data": {
      "image/png": "[encoded data removed]",
      "text/plain": [
       "<Figure size 432x288 with 1 Axes>"
      ]
     },
     "metadata": {},
     "output_type": "display_data"
    }
   ],
   "source": [
    "Sex_values = ['Female', 'Male']\n",
    "plt.pie(\n",
    "   drug_sex,\n",
    "    labels = Sex_values,\n",
    "    colors = ('green', 'blue'),\n",
    "    explode=(0, 0.15),\n",
    "    shadow=False,\n",
    "    startangle = 90,\n",
    "    autopct='%1.1f%%',\n",
    ")\n",
    "\n",
    "plt.axis('equal')\n",
    "plt.title('% of deaths by Sex', bbox={'facecolor':'0.9', 'pad':2})\n",
    "\n",
    "plt.tight_layout()\n",
    "plt.show()"
   ]
  },
  {
   "cell_type": "markdown",
   "metadata": {},
   "source": [
    "### Raza\n",
    "De la gráfica de __raza__ podemos observar que la mayoría de las muertes se concentran en un grupo que destaca sobre los demás, el cual es el de la Raza Blanca, seguido por Hispanic White y Black.\n",
    "\n",
    "           White                     79.146242 %\n",
    "           Hispanic, White           10.682190 %\n",
    "           Black                      8.374183 %\n",
    "           Unknown                    0.428922 %\n",
    "           Hispanic, Black            0.428922 %\n",
    "           Asian, Other               0.367647 %\n",
    "           Asian Indian               0.285948 %\n",
    "           Other                      0.204248 %\n",
    "           Chinese                    0.040850 %\n",
    "           Native American, Other     0.020425 %\n",
    "           Hawaiian                   0.020425 %\n",
    "\n",
    "Pero, para poder contextualizar, lo ideal es exponer también el porcentaje de estos grupos sobre el total de la población.\n",
    "\n",
    "En 2006 el estado contaba con una población de 3.504.809 personas, de las cuales:\n",
    "\n",
    "            El 74,5% son blancos (europeos o descendientes de europeos).\n",
    "\n",
    "            El 11,2% son latinos o hispanos\n",
    "\n",
    "            El 9,5% son negros.\n",
    "\n",
    "            El 3,3% son asiáticos.\n",
    "\n",
    "            El resto lo conforman personas de otras razas.\n",
    "\n",
    "__Fuente:__ https://web.archive.org/web/20081211054741/http://factfinder.census.gov/servlet/STTable?_bm=y&-context=st&-qr_name=ACS_2006_EST_G00_S0501&-ds_name=ACS_2006_EST_G00_&-tree_id=306&-redoLog=false&-_caller=geoselect&-geo_id=04000US09&-format=&-_lang=en"
   ]
  },
  {
   "cell_type": "code",
   "execution_count": 25,
   "metadata": {},
   "outputs": [
    {
     "data": {
      "text/plain": [
       "           Race                  \n",
       "frequency  White                     79.146242\n",
       "           Hispanic, White           10.682190\n",
       "           Black                      8.374183\n",
       "           Unknown                    0.428922\n",
       "           Hispanic, Black            0.428922\n",
       "           Asian, Other               0.367647\n",
       "           Asian Indian               0.285948\n",
       "           Other                      0.204248\n",
       "           Chinese                    0.040850\n",
       "           Native American, Other     0.020425\n",
       "           Hawaiian                   0.020425\n",
       "dtype: float64"
      ]
     },
     "execution_count": 25,
     "metadata": {},
     "output_type": "execute_result"
    }
   ],
   "source": [
    "drug_race = (drug.groupby(\"Race\").agg(frequency=(\"Race\", \"count\")).unstack().sort_values(ascending=False))\n",
    "drug_race/48.96"
   ]
  },
  {
   "cell_type": "code",
   "execution_count": 26,
   "metadata": {
    "scrolled": true
   },
   "outputs": [
    {
     "data": {
      "text/plain": [
       "['White',\n",
       " 'Hispanic, White',\n",
       " 'Black',\n",
       " 'Unknown',\n",
       " 'Hispanic, Black',\n",
       " 'Asian, Other',\n",
       " 'Asian Indian',\n",
       " 'Other',\n",
       " 'Chinese',\n",
       " 'Native American, Other',\n",
       " 'Hawaiian']"
      ]
     },
     "execution_count": 26,
     "metadata": {},
     "output_type": "execute_result"
    }
   ],
   "source": [
    "Race_values = ['White', 'Hispanic, White', 'Black', 'Unknown', 'Hispanic, Black', 'Asian, Other', 'Asian Indian', 'Other','Chinese', 'Native American, Other', 'Hawaiian']                      \n",
    "Race_values"
   ]
  },
  {
   "cell_type": "code",
   "execution_count": 27,
   "metadata": {
    "scrolled": true
   },
   "outputs": [
    {
     "data": {
      "image/png": "[encoded data removed]",
      "text/plain": [
       "<Figure size 720x720 with 1 Axes>"
      ]
     },
     "metadata": {},
     "output_type": "display_data"
    },
    {
     "data": {
      "text/plain": [
       "<Figure size 720x720 with 0 Axes>"
      ]
     },
     "metadata": {},
     "output_type": "display_data"
    }
   ],
   "source": [
    "plt.figure(figsize=(10,10))\n",
    "plt.pie(\n",
    "   drug_race,\n",
    "    labels = Race_values,\n",
    "    shadow=False,\n",
    "    startangle = 90,\n",
    "    explode=(0.1, 0.05, 0.10, 0.15, 0.2, 0.3, 0.4, 0.5, 0.6, 0.7, 0.8),\n",
    "    autopct='%1.1f%%',\n",
    ")\n",
    "\n",
    "plt.axis('equal')\n",
    "plt.title('% of deaths by Race',  bbox={'facecolor':'0.9', 'pad':2})\n",
    "plt.figure(figsize=(10,10))\n",
    "plt.tight_layout()\n",
    "plt.show()"
   ]
  },
  {
   "cell_type": "markdown",
   "metadata": {},
   "source": [
    "### Ciudad de Residencia\n",
    "De la gráfica de __ResidenceCity__ podemos observar una concentración de valores en las ciudades de:\n",
    "\n",
    "      WATERBURY        268\n",
    "      BRIDGEPORT       237\n",
    "      NEW HAVEN        224\n",
    "      NEW BRITAIN      190\n",
    "      BRISTOL          133\n",
    "      MERIDEN          125\n",
    "      NORWICH          108\n",
    "      MANCHESTER       102"
   ]
  },
  {
   "cell_type": "code",
   "execution_count": 32,
   "metadata": {},
   "outputs": [],
   "source": [
    "drug_ResidenceCity = (drug.groupby(\"ResidenceCity\").agg(EEUU =(\"ResidenceCity\", \"count\")).unstack().sort_values(ascending=False))\n",
    "drug_ResidenceCity = drug_ResidenceCity[1:50]"
   ]
  },
  {
   "cell_type": "code",
   "execution_count": 31,
   "metadata": {},
   "outputs": [
    {
     "data": {
      "text/plain": [
       "<AxesSubplot:title={'center':'Ciudad de Residencia de las Personas Fallecidas'}, xlabel='None,ResidenceCity'>"
      ]
     },
     "execution_count": 31,
     "metadata": {},
     "output_type": "execute_result"
    },
    {
     "data": {
      "image/png": "[encoded data removed]",
      "text/plain": [
       "<Figure size 1080x360 with 1 Axes>"
      ]
     },
     "metadata": {
      "needs_background": "light"
     },
     "output_type": "display_data"
    }
   ],
   "source": [
    "drug_ResidenceCity.plot(figsize = (15,5),kind='bar', color = 'navy', title = 'Ciudad de Residencia de las Personas Fallecidas')"
   ]
  },
  {
   "cell_type": "markdown",
   "metadata": {},
   "source": [
    "### Ciudad de Fallecimiento\n",
    "De la gráfica de __DeathCity__ podemos observar una concentración de valores en las ciudades de:\n",
    "\n",
    "      BRIDGEPORT       237\n",
    "      NEW HAVEN        224\n",
    "      NEW BRITAIN      190\n",
    "      BRISTOL          133\n",
    "      MERIDEN          125\n",
    "      NORWICH          108\n",
    "      MANCHESTER       102\n",
    "      TORRINGTON        98\n",
    "      \n",
    "Respecto a la gráfica anterior se puede observar que a mayor numero de elementos en cada ciudad de residencia implica también un mayor número de fallecimientos en esa ciudad, lo que podría indicar que la mayoría de la población muere en el mismo lugar en el que residía."
   ]
  },
  {
   "cell_type": "code",
   "execution_count": 34,
   "metadata": {},
   "outputs": [
    {
     "data": {
      "text/plain": [
       "<AxesSubplot:title={'center':'Ciudad de Fallecimiento de las Personas Fallecidas'}, xlabel='None,ResidenceCity'>"
      ]
     },
     "execution_count": 34,
     "metadata": {},
     "output_type": "execute_result"
    },
    {
     "data": {
      "image/png": "[encoded data removed]",
      "text/plain": [
       "<Figure size 1080x360 with 1 Axes>"
      ]
     },
     "metadata": {
      "needs_background": "light"
     },
     "output_type": "display_data"
    }
   ],
   "source": [
    "drug_DeathCity = (drug.groupby(\"DeathCity\").agg(EEUU =(\"DeathCity\", \"count\")).unstack().sort_values(ascending=False))\n",
    "drug_DeathCity = drug_ResidenceCity[1:50]\n",
    "drug_DeathCity.plot(figsize = (15,5),kind='bar', color = 'navy', title = 'Ciudad de Fallecimiento de las Personas Fallecidas')"
   ]
  },
  {
   "cell_type": "markdown",
   "metadata": {},
   "source": [
    "### Localización de Fallecimiento\n",
    "De la gráfica de __Location__ podemos observar la siguiente distribución:\n",
    "\n",
    "      Hospital             1573\n",
    "      Other                 655\n",
    "      Convalescent Home       2\n",
    "      Nursing Home            1\n",
    "      Hospice                 1\n",
    "\n",
    "Se puede observar que la mayoría de los fallecimientos se da en los hospitales."
   ]
  },
  {
   "cell_type": "code",
   "execution_count": 40,
   "metadata": {},
   "outputs": [
    {
     "data": {
      "text/plain": [
       "array(['Hospital', 'Residence', 'Other', 'Nursing Home',\n",
       "       'Convalescent Home', 'Hospice'], dtype=object)"
      ]
     },
     "execution_count": 40,
     "metadata": {},
     "output_type": "execute_result"
    }
   ],
   "source": [
    "drug.Location.unique()"
   ]
  },
  {
   "cell_type": "code",
   "execution_count": 42,
   "metadata": {},
   "outputs": [
    {
     "data": {
      "text/plain": [
       "<AxesSubplot:title={'center':'Lugar de Fallecimiento de las Personas Fallecidas'}, xlabel='None,Location'>"
      ]
     },
     "execution_count": 42,
     "metadata": {},
     "output_type": "execute_result"
    },
    {
     "data": {
      "image/png": "[encoded data removed]",
      "text/plain": [
       "<Figure size 1080x360 with 1 Axes>"
      ]
     },
     "metadata": {
      "needs_background": "light"
     },
     "output_type": "display_data"
    }
   ],
   "source": [
    "drug_Location = (drug.groupby(\"Location\").agg(EEUU =(\"Location\", \"count\")).unstack().sort_values(ascending=False))\n",
    "drug_Location = drug_Location[1:5]\n",
    "drug_Location.plot(figsize = (15,5),kind='bar', color = 'navy', title = 'Lugar de Fallecimiento de las Personas Fallecidas')"
   ]
  },
  {
   "cell_type": "markdown",
   "metadata": {},
   "source": [
    "### Tipo de droga\n",
    "\n",
    "A continuación, haremos un análisis de la drogas consumidas que han provocado el fallecimiento:\n",
    "\n",
    "    Heroin                2430\n",
    "    AnyOpioid             2366\n",
    "    Fentanyl              2131\n",
    "    Cocaine               1425\n",
    "    Benzodiazepine        1302\n",
    "    Ethanol               1185\n",
    "    Oxycodone             594\n",
    "    Methadone             454\n",
    "    Amphet                155\n",
    "    Tramad                127\n",
    "    Hydrocodone           115\n",
    "    Oxymorphone           105\n",
    "    OpiateNOS             85\n",
    "    Morphine_NotHeroin    41\n",
    "    Hydromorphone         23\n",
    "\n",
    "Si realizamos la suma de drogas consumidas en total nos da un valor de 12.538 drogas consumidas por los 4896 personas que conforman la lista de muertos, llegamos a la aterradora cifra de que cada persona, de media, 2,56 drogas diferentes (motivo por el cual se podría explicar la mayoría de las muertes (sobredosis)."
   ]
  },
  {
   "cell_type": "code",
   "execution_count": 49,
   "metadata": {},
   "outputs": [],
   "source": [
    "drugs = drug.loc[::, 'Heroin':'AnyOpioid']\n",
    "drugs['Fentanyl'] = drugs['Fentanyl'].replace(['1-A', '1 POPS', '1 (PTCH)'], '1')\n",
    "drugs['AnyOpioid'] = drugs['AnyOpioid'].replace({'N':'0'})\n",
    "drugs['Morphine_NotHeroin'] = drugs['Morphine_NotHeroin'].replace(['STOLE MEDS', 'PCP NEG', '1ES', 'NO RX BUT STRAWS'], '1')\n",
    "\n",
    "\n",
    "drugs[['Morphine_NotHeroin', 'AnyOpioid', 'Fentanyl']] = drugs[['Morphine_NotHeroin', 'AnyOpioid', 'Fentanyl']].astype('int64')"
   ]
  },
  {
   "cell_type": "code",
   "execution_count": 50,
   "metadata": {},
   "outputs": [
    {
     "data": {
      "text/plain": [
       "(Index(['Heroin', 'AnyOpioid', 'Fentanyl', 'Cocaine', 'Benzodiazepine',\n",
       "        'Ethanol', 'Oxycodone', 'Methadone', 'Amphet', 'Tramad', 'Hydrocodone',\n",
       "        'Oxymorphone', 'OpiateNOS', 'Morphine_NotHeroin', 'Hydromorphone'],\n",
       "       dtype='object'),\n",
       " array([2430, 2366, 2131, 1425, 1302, 1185,  594,  454,  155,  127,  115,\n",
       "         105,   85,   41,   23], dtype=int64))"
      ]
     },
     "execution_count": 50,
     "metadata": {},
     "output_type": "execute_result"
    }
   ],
   "source": [
    "drug_suma = drugs.sum().sort_values(ascending = False).index\n",
    "frequency = drugs.sum().sort_values(ascending = False).values\n",
    "drug_suma, frequency"
   ]
  },
  {
   "cell_type": "code",
   "execution_count": 51,
   "metadata": {},
   "outputs": [
    {
     "data": {
      "text/plain": [
       "<AxesSubplot:>"
      ]
     },
     "execution_count": 51,
     "metadata": {},
     "output_type": "execute_result"
    },
    {
     "data": {
      "image/png": "[encoded data removed]",
      "text/plain": [
       "<Figure size 864x576 with 1 Axes>"
      ]
     },
     "metadata": {
      "needs_background": "light"
     },
     "output_type": "display_data"
    }
   ],
   "source": [
    "plt.figure(figsize = (12, 8))\n",
    "plt.tight_layout()\n",
    "sns.barplot(x = frequency, y = drug_suma)"
   ]
  },
  {
   "cell_type": "markdown",
   "metadata": {},
   "source": [
    "### 4.2. Data Analisis - Multivariate analysis\n",
    "\n",
    "En este apartado realizaremos un análisis conjunto de las variables por medio de una matriz de correlación y la relación por medio de pairplot entre la edad y dos de las drogas más consumidas."
   ]
  },
  {
   "cell_type": "markdown",
   "metadata": {},
   "source": [
    "### Matriz de correlación\n",
    "\n",
    "Con esta gráfica, se puede observar (principalmente si nos fijamos solo en la columna de edad, que una correlación negativa implica que cuando más mayor se hace una persona hay menos propensión al consumo de esa droga (como en el caso de la Heroína y las Anfetaminas).\n",
    "\n",
    "Por el contrario, el mayor aumento de consumo de una droga en relación al aumento de la edad se da en la Oxycodona (el cuál es un opioide que suelen tomás personas más mayores)."
   ]
  },
  {
   "cell_type": "code",
   "execution_count": 37,
   "metadata": {},
   "outputs": [
    {
     "data": {
      "text/html": [
       "<div>\n",
       "<style scoped>\n",
       "    .dataframe tbody tr th:only-of-type {\n",
       "        vertical-align: middle;\n",
       "    }\n",
       "\n",
       "    .dataframe tbody tr th {\n",
       "        vertical-align: top;\n",
       "    }\n",
       "\n",
       "    .dataframe thead th {\n",
       "        text-align: right;\n",
       "    }\n",
       "</style>\n",
       "<table border=\"1\" class=\"dataframe\">\n",
       "  <thead>\n",
       "    <tr style=\"text-align: right;\">\n",
       "      <th></th>\n",
       "      <th>Age</th>\n",
       "      <th>Heroin</th>\n",
       "      <th>Cocaine</th>\n",
       "      <th>Oxycodone</th>\n",
       "      <th>Oxymorphone</th>\n",
       "      <th>Ethanol</th>\n",
       "      <th>Hydrocodone</th>\n",
       "      <th>Benzodiazepine</th>\n",
       "      <th>Methadone</th>\n",
       "      <th>Amphet</th>\n",
       "      <th>Tramad</th>\n",
       "      <th>Hydromorphone</th>\n",
       "      <th>OpiateNOS</th>\n",
       "    </tr>\n",
       "  </thead>\n",
       "  <tbody>\n",
       "    <tr>\n",
       "      <th>Age</th>\n",
       "      <td>1.000000</td>\n",
       "      <td>-0.134960</td>\n",
       "      <td>0.052907</td>\n",
       "      <td>0.130391</td>\n",
       "      <td>0.031886</td>\n",
       "      <td>0.083202</td>\n",
       "      <td>0.073189</td>\n",
       "      <td>0.056826</td>\n",
       "      <td>0.066426</td>\n",
       "      <td>-0.039947</td>\n",
       "      <td>0.089619</td>\n",
       "      <td>0.038801</td>\n",
       "      <td>0.031003</td>\n",
       "    </tr>\n",
       "    <tr>\n",
       "      <th>Heroin</th>\n",
       "      <td>-0.134960</td>\n",
       "      <td>1.000000</td>\n",
       "      <td>-0.003832</td>\n",
       "      <td>-0.227481</td>\n",
       "      <td>-0.113117</td>\n",
       "      <td>-0.025888</td>\n",
       "      <td>-0.089220</td>\n",
       "      <td>-0.105600</td>\n",
       "      <td>-0.125813</td>\n",
       "      <td>-0.004503</td>\n",
       "      <td>-0.038634</td>\n",
       "      <td>-0.008456</td>\n",
       "      <td>-0.131947</td>\n",
       "    </tr>\n",
       "    <tr>\n",
       "      <th>Cocaine</th>\n",
       "      <td>0.052907</td>\n",
       "      <td>-0.003832</td>\n",
       "      <td>1.000000</td>\n",
       "      <td>-0.116900</td>\n",
       "      <td>-0.060713</td>\n",
       "      <td>-0.046085</td>\n",
       "      <td>-0.057808</td>\n",
       "      <td>-0.121056</td>\n",
       "      <td>-0.060673</td>\n",
       "      <td>0.004845</td>\n",
       "      <td>-0.039500</td>\n",
       "      <td>-0.024292</td>\n",
       "      <td>-0.061069</td>\n",
       "    </tr>\n",
       "    <tr>\n",
       "      <th>Oxycodone</th>\n",
       "      <td>0.130391</td>\n",
       "      <td>-0.227481</td>\n",
       "      <td>-0.116900</td>\n",
       "      <td>1.000000</td>\n",
       "      <td>0.316358</td>\n",
       "      <td>0.007641</td>\n",
       "      <td>0.049764</td>\n",
       "      <td>0.137390</td>\n",
       "      <td>-0.041152</td>\n",
       "      <td>-0.010022</td>\n",
       "      <td>0.002329</td>\n",
       "      <td>0.038511</td>\n",
       "      <td>0.032029</td>\n",
       "    </tr>\n",
       "    <tr>\n",
       "      <th>Oxymorphone</th>\n",
       "      <td>0.031886</td>\n",
       "      <td>-0.113117</td>\n",
       "      <td>-0.060713</td>\n",
       "      <td>0.316358</td>\n",
       "      <td>1.000000</td>\n",
       "      <td>0.001930</td>\n",
       "      <td>-0.004341</td>\n",
       "      <td>0.067259</td>\n",
       "      <td>-0.008441</td>\n",
       "      <td>-0.002610</td>\n",
       "      <td>-0.006419</td>\n",
       "      <td>0.010449</td>\n",
       "      <td>-0.008883</td>\n",
       "    </tr>\n",
       "    <tr>\n",
       "      <th>Ethanol</th>\n",
       "      <td>0.083202</td>\n",
       "      <td>-0.025888</td>\n",
       "      <td>-0.046085</td>\n",
       "      <td>0.007641</td>\n",
       "      <td>0.001930</td>\n",
       "      <td>1.000000</td>\n",
       "      <td>0.032010</td>\n",
       "      <td>-0.004456</td>\n",
       "      <td>-0.037622</td>\n",
       "      <td>-0.028639</td>\n",
       "      <td>0.000785</td>\n",
       "      <td>-0.024874</td>\n",
       "      <td>-0.009394</td>\n",
       "    </tr>\n",
       "    <tr>\n",
       "      <th>Hydrocodone</th>\n",
       "      <td>0.073189</td>\n",
       "      <td>-0.089220</td>\n",
       "      <td>-0.057808</td>\n",
       "      <td>0.049764</td>\n",
       "      <td>-0.004341</td>\n",
       "      <td>0.032010</td>\n",
       "      <td>1.000000</td>\n",
       "      <td>0.034852</td>\n",
       "      <td>-0.030984</td>\n",
       "      <td>-0.012638</td>\n",
       "      <td>0.000144</td>\n",
       "      <td>0.009068</td>\n",
       "      <td>0.020687</td>\n",
       "    </tr>\n",
       "    <tr>\n",
       "      <th>Benzodiazepine</th>\n",
       "      <td>0.056826</td>\n",
       "      <td>-0.105600</td>\n",
       "      <td>-0.121056</td>\n",
       "      <td>0.137390</td>\n",
       "      <td>0.067259</td>\n",
       "      <td>-0.004456</td>\n",
       "      <td>0.034852</td>\n",
       "      <td>1.000000</td>\n",
       "      <td>0.113585</td>\n",
       "      <td>0.060147</td>\n",
       "      <td>0.041375</td>\n",
       "      <td>0.033016</td>\n",
       "      <td>0.026176</td>\n",
       "    </tr>\n",
       "    <tr>\n",
       "      <th>Methadone</th>\n",
       "      <td>0.066426</td>\n",
       "      <td>-0.125813</td>\n",
       "      <td>-0.060673</td>\n",
       "      <td>-0.041152</td>\n",
       "      <td>-0.008441</td>\n",
       "      <td>-0.037622</td>\n",
       "      <td>-0.030984</td>\n",
       "      <td>0.113585</td>\n",
       "      <td>1.000000</td>\n",
       "      <td>-0.017587</td>\n",
       "      <td>-0.003440</td>\n",
       "      <td>-0.001367</td>\n",
       "      <td>-0.015538</td>\n",
       "    </tr>\n",
       "    <tr>\n",
       "      <th>Amphet</th>\n",
       "      <td>-0.039947</td>\n",
       "      <td>-0.004503</td>\n",
       "      <td>0.004845</td>\n",
       "      <td>-0.010022</td>\n",
       "      <td>-0.002610</td>\n",
       "      <td>-0.028639</td>\n",
       "      <td>-0.012638</td>\n",
       "      <td>0.060147</td>\n",
       "      <td>-0.017587</td>\n",
       "      <td>1.000000</td>\n",
       "      <td>-0.000151</td>\n",
       "      <td>0.004638</td>\n",
       "      <td>0.011691</td>\n",
       "    </tr>\n",
       "    <tr>\n",
       "      <th>Tramad</th>\n",
       "      <td>0.089619</td>\n",
       "      <td>-0.038634</td>\n",
       "      <td>-0.039500</td>\n",
       "      <td>0.002329</td>\n",
       "      <td>-0.006419</td>\n",
       "      <td>0.000785</td>\n",
       "      <td>0.000144</td>\n",
       "      <td>0.041375</td>\n",
       "      <td>-0.003440</td>\n",
       "      <td>-0.000151</td>\n",
       "      <td>1.000000</td>\n",
       "      <td>0.007580</td>\n",
       "      <td>0.017660</td>\n",
       "    </tr>\n",
       "    <tr>\n",
       "      <th>Hydromorphone</th>\n",
       "      <td>0.038801</td>\n",
       "      <td>-0.008456</td>\n",
       "      <td>-0.024292</td>\n",
       "      <td>0.038511</td>\n",
       "      <td>0.010449</td>\n",
       "      <td>-0.024874</td>\n",
       "      <td>0.009068</td>\n",
       "      <td>0.033016</td>\n",
       "      <td>-0.001367</td>\n",
       "      <td>0.004638</td>\n",
       "      <td>0.007580</td>\n",
       "      <td>1.000000</td>\n",
       "      <td>-0.009132</td>\n",
       "    </tr>\n",
       "    <tr>\n",
       "      <th>OpiateNOS</th>\n",
       "      <td>0.031003</td>\n",
       "      <td>-0.131947</td>\n",
       "      <td>-0.061069</td>\n",
       "      <td>0.032029</td>\n",
       "      <td>-0.008883</td>\n",
       "      <td>-0.009394</td>\n",
       "      <td>0.020687</td>\n",
       "      <td>0.026176</td>\n",
       "      <td>-0.015538</td>\n",
       "      <td>0.011691</td>\n",
       "      <td>0.017660</td>\n",
       "      <td>-0.009132</td>\n",
       "      <td>1.000000</td>\n",
       "    </tr>\n",
       "  </tbody>\n",
       "</table>\n",
       "</div>"
      ],
      "text/plain": [
       "                     Age    Heroin   Cocaine  Oxycodone  Oxymorphone  \\\n",
       "Age             1.000000 -0.134960  0.052907   0.130391     0.031886   \n",
       "Heroin         -0.134960  1.000000 -0.003832  -0.227481    -0.113117   \n",
       "Cocaine         0.052907 -0.003832  1.000000  -0.116900    -0.060713   \n",
       "Oxycodone       0.130391 -0.227481 -0.116900   1.000000     0.316358   \n",
       "Oxymorphone     0.031886 -0.113117 -0.060713   0.316358     1.000000   \n",
       "Ethanol         0.083202 -0.025888 -0.046085   0.007641     0.001930   \n",
       "Hydrocodone     0.073189 -0.089220 -0.057808   0.049764    -0.004341   \n",
       "Benzodiazepine  0.056826 -0.105600 -0.121056   0.137390     0.067259   \n",
       "Methadone       0.066426 -0.125813 -0.060673  -0.041152    -0.008441   \n",
       "Amphet         -0.039947 -0.004503  0.004845  -0.010022    -0.002610   \n",
       "Tramad          0.089619 -0.038634 -0.039500   0.002329    -0.006419   \n",
       "Hydromorphone   0.038801 -0.008456 -0.024292   0.038511     0.010449   \n",
       "OpiateNOS       0.031003 -0.131947 -0.061069   0.032029    -0.008883   \n",
       "\n",
       "                 Ethanol  Hydrocodone  Benzodiazepine  Methadone    Amphet  \\\n",
       "Age             0.083202     0.073189        0.056826   0.066426 -0.039947   \n",
       "Heroin         -0.025888    -0.089220       -0.105600  -0.125813 -0.004503   \n",
       "Cocaine        -0.046085    -0.057808       -0.121056  -0.060673  0.004845   \n",
       "Oxycodone       0.007641     0.049764        0.137390  -0.041152 -0.010022   \n",
       "Oxymorphone     0.001930    -0.004341        0.067259  -0.008441 -0.002610   \n",
       "Ethanol         1.000000     0.032010       -0.004456  -0.037622 -0.028639   \n",
       "Hydrocodone     0.032010     1.000000        0.034852  -0.030984 -0.012638   \n",
       "Benzodiazepine -0.004456     0.034852        1.000000   0.113585  0.060147   \n",
       "Methadone      -0.037622    -0.030984        0.113585   1.000000 -0.017587   \n",
       "Amphet         -0.028639    -0.012638        0.060147  -0.017587  1.000000   \n",
       "Tramad          0.000785     0.000144        0.041375  -0.003440 -0.000151   \n",
       "Hydromorphone  -0.024874     0.009068        0.033016  -0.001367  0.004638   \n",
       "OpiateNOS      -0.009394     0.020687        0.026176  -0.015538  0.011691   \n",
       "\n",
       "                  Tramad  Hydromorphone  OpiateNOS  \n",
       "Age             0.089619       0.038801   0.031003  \n",
       "Heroin         -0.038634      -0.008456  -0.131947  \n",
       "Cocaine        -0.039500      -0.024292  -0.061069  \n",
       "Oxycodone       0.002329       0.038511   0.032029  \n",
       "Oxymorphone    -0.006419       0.010449  -0.008883  \n",
       "Ethanol         0.000785      -0.024874  -0.009394  \n",
       "Hydrocodone     0.000144       0.009068   0.020687  \n",
       "Benzodiazepine  0.041375       0.033016   0.026176  \n",
       "Methadone      -0.003440      -0.001367  -0.015538  \n",
       "Amphet         -0.000151       0.004638   0.011691  \n",
       "Tramad          1.000000       0.007580   0.017660  \n",
       "Hydromorphone   0.007580       1.000000  -0.009132  \n",
       "OpiateNOS       0.017660      -0.009132   1.000000  "
      ]
     },
     "execution_count": 37,
     "metadata": {},
     "output_type": "execute_result"
    }
   ],
   "source": [
    "drug[['Age','Heroin','AnyOpioid', 'Cocaine', 'Fentanyl', 'Oxycodone',\n",
    "       'Oxymorphone', 'Ethanol', 'Hydrocodone', 'Benzodiazepine', 'Methadone',\n",
    "       'Amphet', 'Tramad', 'Morphine_NotHeroin', 'Hydromorphone', 'OpiateNOS']].corr()\n"
   ]
  },
  {
   "cell_type": "code",
   "execution_count": 45,
   "metadata": {},
   "outputs": [
    {
     "data": {
      "image/png": "[encoded data removed]",
      "text/plain": [
       "<Figure size 1080x720 with 2 Axes>"
      ]
     },
     "metadata": {
      "needs_background": "light"
     },
     "output_type": "display_data"
    }
   ],
   "source": [
    "fig, ax = plt.subplots(figsize=(15, 10))\n",
    "sns.heatmap(drug[['Age','Heroin','AnyOpioid', 'Cocaine', 'Fentanyl', 'Oxycodone',\n",
    "       'Oxymorphone', 'Ethanol', 'Hydrocodone', 'Benzodiazepine', 'Methadone',\n",
    "       'Amphet', 'Tramad', 'Morphine_NotHeroin', 'Hydromorphone', 'OpiateNOS']].corr(), annot=True, cmap = 'Blues')\n",
    "\n",
    "plt.show()"
   ]
  },
  {
   "cell_type": "markdown",
   "metadata": {},
   "source": [
    "### Pair Plots"
   ]
  },
  {
   "cell_type": "code",
   "execution_count": 39,
   "metadata": {},
   "outputs": [
    {
     "data": {
      "image/png": "[encoded data removed]",
      "text/plain": [
       "<Figure size 540x540 with 12 Axes>"
      ]
     },
     "metadata": {
      "needs_background": "light"
     },
     "output_type": "display_data"
    }
   ],
   "source": [
    "sns.pairplot(data = drug, vars=['Age','Heroin', 'Cocaine'])\n",
    "plt.show()"
   ]
  },
  {
   "cell_type": "markdown",
   "metadata": {},
   "source": [
    "#  5. Conclusiones\n",
    "\n",
    "Tras este análisis se puede obtener algunas conclusiones claras:\n",
    "\n",
    "* Hay una gran diferencia de muertes si diferenciamos por Sexo\n",
    "* La mayor parte de las muertes son de Blancos, Varones y que consumen Heroina\n",
    "* Hay drogas que con el paso de la edad aumenta su consumo y otras que disminuyen\n",
    "* Las personas fallecidas han consumido, de media, 2,5 tipos diferentes de drogas\n",
    "* Afortunadamente, se puede observar que gran parte de los fallecidos recibieron atención médica\n",
    "\n"
   ]
  }
 ],
 "metadata": {
  "kernelspec": {
   "display_name": "Python(new_eda)",
   "language": "python",
   "name": "new_eda"
  },
  "language_info": {
   "codemirror_mode": {
    "name": "ipython",
    "version": 3
   },
   "file_extension": ".py",
   "mimetype": "text/x-python",
   "name": "python",
   "nbconvert_exporter": "python",
   "pygments_lexer": "ipython3",
   "version": "3.8.5"
  }
 },
 "nbformat": 4,
 "nbformat_minor": 4
}

{
 "cells": [
  {
   "cell_type": "markdown",
   "metadata": {},
   "source": [
    "# Regresión logística y descenso del gradiente\n",
    "\n",
    "\n",
    "__Autor:__ Sergio Casares Fernández"
   ]
  },
  {
   "attachments": {
    "Logistic-curve.svg": {
     "image/svg+xml": [
      "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"
     ]
    },
    "gds.gif": {
     "image/gif": "[encoded data removed]"
    }
   },
   "cell_type": "markdown",
   "metadata": {},
   "source": [
    "# 1. Introducción al Trabajo\n",
    "\n",
    "El trabajo versará acerca del cálculo del desdenso del gradiente y la regresión logística en base a un dataset (4_1_data), el cual trata de puntuaciones en dos exámenes (columna 1 y 2) y otra donde aparece si esa persona ha sido aceptado o no (columna 3).\n",
    "\n",
    "__La el procedimiento del cálculo del descenso del gradiente será el siguiente:__\n",
    "\n",
    "* Importación de las librerías y el dataset y Visualización de Datos\n",
    "\n",
    "* Descenso del Gradiente\n",
    "\n",
    "    * Función Sigmoide\n",
    "    \n",
    "    * Función de coste\n",
    "    \n",
    "    * Normalización de los valores\n",
    "    \n",
    "    * Descenso del Gradiente\n",
    "    \n",
    "    * Visualización de la función de coste\n",
    "\n",
    "* Predicción\n",
    "\n",
    "* Bibliografía\n",
    "\n",
    "### ¿Qué es una regresión logística?\n",
    "\n",
    "La regresión logística es un tipo de análisis de regresión utilizado para predecir el resultado de una variable categórica en función de las variables independientes o predictoras.\n",
    "\n",
    "Es útil para modelar la probabilidad de un evento ocurriendo como función de otros factores. El análisis de regresión logística se enmarca en el conjunto de Modelos Lineales Generalizados (GLM por sus siglas en inglés) que usa como función de enlace la función logit. Las probabilidades que describen el posible resultado de un único ensayo se modelan, como una función de variables explicativas, utilizando una función logística.\n",
    "\n",
    "![Logistic-curve.svg](attachment:Logistic-curve.svg)\n",
    "\n",
    "### ¿Qué es el Descenso del Gradiente?\n",
    "\n",
    "El descenso del gradiente es un cálculo que nos permite saber cómo ajustar los parámetros de la red de tal forma que se minimice su desviación a la salida. También se define como un algoritmo para encontrar un mínimo de una función .\n",
    "\n",
    "El gradiente es la generalización vectorial de la derivada, es un vector de tantas dimensiones como la función y cada dimensión contiene la derivada parcial en dicha dimensión.\n",
    "\n",
    "![gds.gif](attachment:gds.gif)"
   ]
  },
  {
   "cell_type": "markdown",
   "metadata": {},
   "source": [
    "### 2. Importación de librerías y dataset"
   ]
  },
  {
   "cell_type": "code",
   "execution_count": 153,
   "metadata": {},
   "outputs": [],
   "source": [
    "import pandas as pd\n",
    "import numpy as np\n",
    "import matplotlib.pyplot as plt"
   ]
  },
  {
   "cell_type": "code",
   "execution_count": 154,
   "metadata": {},
   "outputs": [
    {
     "data": {
      "text/html": [
       "<div>\n",
       "<style scoped>\n",
       "    .dataframe tbody tr th:only-of-type {\n",
       "        vertical-align: middle;\n",
       "    }\n",
       "\n",
       "    .dataframe tbody tr th {\n",
       "        vertical-align: top;\n",
       "    }\n",
       "\n",
       "    .dataframe thead th {\n",
       "        text-align: right;\n",
       "    }\n",
       "</style>\n",
       "<table border=\"1\" class=\"dataframe\">\n",
       "  <thead>\n",
       "    <tr style=\"text-align: right;\">\n",
       "      <th></th>\n",
       "      <th>0</th>\n",
       "      <th>1</th>\n",
       "      <th>2</th>\n",
       "    </tr>\n",
       "  </thead>\n",
       "  <tbody>\n",
       "    <tr>\n",
       "      <th>0</th>\n",
       "      <td>34.623660</td>\n",
       "      <td>78.024693</td>\n",
       "      <td>0</td>\n",
       "    </tr>\n",
       "    <tr>\n",
       "      <th>1</th>\n",
       "      <td>30.286711</td>\n",
       "      <td>43.894998</td>\n",
       "      <td>0</td>\n",
       "    </tr>\n",
       "    <tr>\n",
       "      <th>2</th>\n",
       "      <td>35.847409</td>\n",
       "      <td>72.902198</td>\n",
       "      <td>0</td>\n",
       "    </tr>\n",
       "    <tr>\n",
       "      <th>3</th>\n",
       "      <td>60.182599</td>\n",
       "      <td>86.308552</td>\n",
       "      <td>1</td>\n",
       "    </tr>\n",
       "    <tr>\n",
       "      <th>4</th>\n",
       "      <td>79.032736</td>\n",
       "      <td>75.344376</td>\n",
       "      <td>1</td>\n",
       "    </tr>\n",
       "    <tr>\n",
       "      <th>...</th>\n",
       "      <td>...</td>\n",
       "      <td>...</td>\n",
       "      <td>...</td>\n",
       "    </tr>\n",
       "    <tr>\n",
       "      <th>95</th>\n",
       "      <td>83.489163</td>\n",
       "      <td>48.380286</td>\n",
       "      <td>1</td>\n",
       "    </tr>\n",
       "    <tr>\n",
       "      <th>96</th>\n",
       "      <td>42.261701</td>\n",
       "      <td>87.103851</td>\n",
       "      <td>1</td>\n",
       "    </tr>\n",
       "    <tr>\n",
       "      <th>97</th>\n",
       "      <td>99.315009</td>\n",
       "      <td>68.775409</td>\n",
       "      <td>1</td>\n",
       "    </tr>\n",
       "    <tr>\n",
       "      <th>98</th>\n",
       "      <td>55.340018</td>\n",
       "      <td>64.931938</td>\n",
       "      <td>1</td>\n",
       "    </tr>\n",
       "    <tr>\n",
       "      <th>99</th>\n",
       "      <td>74.775893</td>\n",
       "      <td>89.529813</td>\n",
       "      <td>1</td>\n",
       "    </tr>\n",
       "  </tbody>\n",
       "</table>\n",
       "<p>100 rows × 3 columns</p>\n",
       "</div>"
      ],
      "text/plain": [
       "            0          1  2\n",
       "0   34.623660  78.024693  0\n",
       "1   30.286711  43.894998  0\n",
       "2   35.847409  72.902198  0\n",
       "3   60.182599  86.308552  1\n",
       "4   79.032736  75.344376  1\n",
       "..        ...        ... ..\n",
       "95  83.489163  48.380286  1\n",
       "96  42.261701  87.103851  1\n",
       "97  99.315009  68.775409  1\n",
       "98  55.340018  64.931938  1\n",
       "99  74.775893  89.529813  1\n",
       "\n",
       "[100 rows x 3 columns]"
      ]
     },
     "execution_count": 154,
     "metadata": {},
     "output_type": "execute_result"
    }
   ],
   "source": [
    "df=pd.read_csv(\"4_1_data.csv\",skiprows = 1, header=None) #skiprows\n",
    "df"
   ]
  },
  {
   "cell_type": "markdown",
   "metadata": {},
   "source": [
    "#### 2.1. Transformación del Dataset (X e Y), descripción y visualización del dataset\n",
    "\n",
    "Dividiremos el Dataset en dos valores, (X e Y), 'X' representará las dos primeras columnas, que son donde aparecen las notas de los dos exámenes realizados y la 'Y' es la columna que representa (con 0 y 1) si la persona es aceptada o no."
   ]
  },
  {
   "cell_type": "code",
   "execution_count": 155,
   "metadata": {},
   "outputs": [],
   "source": [
    "X=df.iloc[:,:-1].values\n",
    "y=df.iloc[:,-1].values"
   ]
  },
  {
   "cell_type": "code",
   "execution_count": 156,
   "metadata": {},
   "outputs": [
    {
     "data": {
      "text/html": [
       "<div>\n",
       "<style scoped>\n",
       "    .dataframe tbody tr th:only-of-type {\n",
       "        vertical-align: middle;\n",
       "    }\n",
       "\n",
       "    .dataframe tbody tr th {\n",
       "        vertical-align: top;\n",
       "    }\n",
       "\n",
       "    .dataframe thead th {\n",
       "        text-align: right;\n",
       "    }\n",
       "</style>\n",
       "<table border=\"1\" class=\"dataframe\">\n",
       "  <thead>\n",
       "    <tr style=\"text-align: right;\">\n",
       "      <th></th>\n",
       "      <th>0</th>\n",
       "      <th>1</th>\n",
       "      <th>2</th>\n",
       "    </tr>\n",
       "  </thead>\n",
       "  <tbody>\n",
       "    <tr>\n",
       "      <th>0</th>\n",
       "      <td>34.623660</td>\n",
       "      <td>78.024693</td>\n",
       "      <td>0</td>\n",
       "    </tr>\n",
       "    <tr>\n",
       "      <th>1</th>\n",
       "      <td>30.286711</td>\n",
       "      <td>43.894998</td>\n",
       "      <td>0</td>\n",
       "    </tr>\n",
       "    <tr>\n",
       "      <th>2</th>\n",
       "      <td>35.847409</td>\n",
       "      <td>72.902198</td>\n",
       "      <td>0</td>\n",
       "    </tr>\n",
       "    <tr>\n",
       "      <th>3</th>\n",
       "      <td>60.182599</td>\n",
       "      <td>86.308552</td>\n",
       "      <td>1</td>\n",
       "    </tr>\n",
       "    <tr>\n",
       "      <th>4</th>\n",
       "      <td>79.032736</td>\n",
       "      <td>75.344376</td>\n",
       "      <td>1</td>\n",
       "    </tr>\n",
       "  </tbody>\n",
       "</table>\n",
       "</div>"
      ],
      "text/plain": [
       "           0          1  2\n",
       "0  34.623660  78.024693  0\n",
       "1  30.286711  43.894998  0\n",
       "2  35.847409  72.902198  0\n",
       "3  60.182599  86.308552  1\n",
       "4  79.032736  75.344376  1"
      ]
     },
     "execution_count": 156,
     "metadata": {},
     "output_type": "execute_result"
    }
   ],
   "source": [
    "df.head()"
   ]
  },
  {
   "cell_type": "code",
   "execution_count": 157,
   "metadata": {},
   "outputs": [
    {
     "data": {
      "text/html": [
       "<div>\n",
       "<style scoped>\n",
       "    .dataframe tbody tr th:only-of-type {\n",
       "        vertical-align: middle;\n",
       "    }\n",
       "\n",
       "    .dataframe tbody tr th {\n",
       "        vertical-align: top;\n",
       "    }\n",
       "\n",
       "    .dataframe thead th {\n",
       "        text-align: right;\n",
       "    }\n",
       "</style>\n",
       "<table border=\"1\" class=\"dataframe\">\n",
       "  <thead>\n",
       "    <tr style=\"text-align: right;\">\n",
       "      <th></th>\n",
       "      <th>0</th>\n",
       "      <th>1</th>\n",
       "      <th>2</th>\n",
       "    </tr>\n",
       "  </thead>\n",
       "  <tbody>\n",
       "    <tr>\n",
       "      <th>count</th>\n",
       "      <td>100.000000</td>\n",
       "      <td>100.000000</td>\n",
       "      <td>100.000000</td>\n",
       "    </tr>\n",
       "    <tr>\n",
       "      <th>mean</th>\n",
       "      <td>65.644274</td>\n",
       "      <td>66.221998</td>\n",
       "      <td>0.600000</td>\n",
       "    </tr>\n",
       "    <tr>\n",
       "      <th>std</th>\n",
       "      <td>19.458222</td>\n",
       "      <td>18.582783</td>\n",
       "      <td>0.492366</td>\n",
       "    </tr>\n",
       "    <tr>\n",
       "      <th>min</th>\n",
       "      <td>30.058822</td>\n",
       "      <td>30.603263</td>\n",
       "      <td>0.000000</td>\n",
       "    </tr>\n",
       "    <tr>\n",
       "      <th>25%</th>\n",
       "      <td>50.919511</td>\n",
       "      <td>48.179205</td>\n",
       "      <td>0.000000</td>\n",
       "    </tr>\n",
       "    <tr>\n",
       "      <th>50%</th>\n",
       "      <td>67.032988</td>\n",
       "      <td>67.682381</td>\n",
       "      <td>1.000000</td>\n",
       "    </tr>\n",
       "    <tr>\n",
       "      <th>75%</th>\n",
       "      <td>80.212529</td>\n",
       "      <td>79.360605</td>\n",
       "      <td>1.000000</td>\n",
       "    </tr>\n",
       "    <tr>\n",
       "      <th>max</th>\n",
       "      <td>99.827858</td>\n",
       "      <td>98.869436</td>\n",
       "      <td>1.000000</td>\n",
       "    </tr>\n",
       "  </tbody>\n",
       "</table>\n",
       "</div>"
      ],
      "text/plain": [
       "                0           1           2\n",
       "count  100.000000  100.000000  100.000000\n",
       "mean    65.644274   66.221998    0.600000\n",
       "std     19.458222   18.582783    0.492366\n",
       "min     30.058822   30.603263    0.000000\n",
       "25%     50.919511   48.179205    0.000000\n",
       "50%     67.032988   67.682381    1.000000\n",
       "75%     80.212529   79.360605    1.000000\n",
       "max     99.827858   98.869436    1.000000"
      ]
     },
     "execution_count": 157,
     "metadata": {},
     "output_type": "execute_result"
    }
   ],
   "source": [
    "df.describe()"
   ]
  },
  {
   "cell_type": "markdown",
   "metadata": {},
   "source": [
    "Como se puede observar, realizamos la visualización de los datos de la puntuación en los examenes y si esa persona ha aprobado o no."
   ]
  },
  {
   "cell_type": "code",
   "execution_count": 158,
   "metadata": {},
   "outputs": [
    {
     "data": {
      "text/plain": [
       "<matplotlib.legend.Legend at 0x21bf8324130>"
      ]
     },
     "execution_count": 158,
     "metadata": {},
     "output_type": "execute_result"
    },
    {
     "data": {
      "image/png": "[encoded data removed]",
      "text/plain": [
       "<Figure size 432x288 with 1 Axes>"
      ]
     },
     "metadata": {
      "needs_background": "light"
     },
     "output_type": "display_data"
    }
   ],
   "source": [
    "pos , neg = (y==1).reshape(100,1) , (y==0).reshape(100,1) #creo arrays de los valores Y que sean igual a 1 (pos) y a 0 (neg)\n",
    "\n",
    "plt.scatter(X[pos[:,0],0],X[pos[:,0],1],c=\"r\",marker=\"+\") #muestra todos los valores de la columna 0 y la columna 1, color rojo y marker '+' siempre que sea 'pos', es decir, Y = 1\n",
    "plt.scatter(X[neg[:,0],0],X[neg[:,0],1],marker=\"o\",s=10) #muestra todos los valores de la columna 0 y la columna 1, color azul y marker '0' siempre que sea 'neg', es decir, Y = 0\n",
    "plt.xlabel(\"Exam 1 score\") #nombre columna x\n",
    "plt.ylabel(\"Exam 2 score\") #nombre columna y\n",
    "plt.legend([\"Admitted\",\"Not admitted\"],loc=0) #creación de la leyenda"
   ]
  },
  {
   "attachments": {
    "b9db8cd0955e7898d6556581941581e3c7522f51.svg": {
     "image/svg+xml": [
      "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"
     ]
    }
   },
   "cell_type": "markdown",
   "metadata": {},
   "source": [
    "## 3. Cálculo del Descenso del Gradiente\n",
    "\n",
    "### 3.1. Función Sigmoide\n",
    "\n",
    "La función sigmoide transforma los valores introducidos a una escala (0,1), donde los valores altos tienen de manera asintótica a 1 y los valores muy bajos tienden de manera asintótica a 0.\n",
    "\n",
    "\n",
    "Características de la función signoide:\n",
    "\n",
    "* Satura y mata el gradiente.\n",
    "* Lenta convergencia.\n",
    "* No esta centrada en el cero.\n",
    "* Esta acotada entre 0 y 1.\n",
    "* Buen rendimiento en la última capa.\n",
    "![b9db8cd0955e7898d6556581941581e3c7522f51.svg](attachment:b9db8cd0955e7898d6556581941581e3c7522f51.svg),\n",
    "\n",
    "<img src = 'https://upload.wikimedia.org/wikipedia/commons/thumb/f/f0/Funci%C3%B3n_sigmoide_02.svg/450px-Funci%C3%B3n_sigmoide_02.svg.png' style = \"width:350px; height:350px\" align = 'center'>"
   ]
  },
  {
   "cell_type": "code",
   "execution_count": 159,
   "metadata": {},
   "outputs": [],
   "source": [
    "def sigmoid(z):\n",
    "    \n",
    "    return 1/ (1 + np.exp(-z))"
   ]
  },
  {
   "cell_type": "markdown",
   "metadata": {},
   "source": [
    "###  3.2. Función de Coste\n",
    "\n",
    "Para poder saber cuál es la función que minimiza los errores de nuestra predicción, debemos realizar una __Función de Coste__, cuya función será la de minimizar los parámetros sobre nuestro dataset, para ello, nos basaremos en el MSE (erro cuadrático medio), el cual mide la diferencia entre el estimador (dataset) y el valor estimado (predicción).\n",
    "\n",
    "<img src = 'https://miro.medium.com/max/440/1*20m_U-H6EIcxlN2k07Z7oQ.png' style = \"width:300px; height:100px\" align = 'center'>"
   ]
  },
  {
   "cell_type": "code",
   "execution_count": 160,
   "metadata": {},
   "outputs": [],
   "source": [
    "def costFunction(theta, X, y):\n",
    "\n",
    "    m=len(y) #longitud de la columna y\n",
    "    #predictions es la función sigmoide de los valores de las dos columnas de x y de theta, np.dot te devuelve la multiplicación entre dos arrays\n",
    "    predictions = sigmoid(np.dot(X,theta)) \n",
    "    #error mide el error de la predicción, si Y = 0, te calcula el logaritmo de 1 menos la predicción y si Y = 1, te calcula el logaritmo de la predicción\n",
    "    error = (-y * np.log(predictions)) - ((1-y)*np.log(1-predictions))\n",
    "    #cost mide el error aportado por cada predicción al total del error de la columna\n",
    "    cost = 1/m * sum(error)\n",
    "    #grad es el aporte individual de cada predicción con la transpuesta del array de X\n",
    "    grad = 1/m * np.dot(X.transpose(),(predictions - y))\n",
    "    \n",
    "    return cost[0] , grad"
   ]
  },
  {
   "cell_type": "markdown",
   "metadata": {},
   "source": [
    "### 3.3. Normalización de los valores\n",
    "\n",
    "La función featureNormalization normaliza los valores de las columnas que forman el objeto X, es decir, los tipifica."
   ]
  },
  {
   "cell_type": "code",
   "execution_count": 161,
   "metadata": {},
   "outputs": [],
   "source": [
    "def featureNormalization(X):\n",
    "\n",
    "    #mean obtiene la media de cada columna, la media de la columna 0 es 65,6 y la 2 es 66,2\n",
    "    mean=np.mean(X,axis=0) \n",
    "    #std obtiene la desviación estandar de cada columna, std columna 0 = 19,45  y la std columna 2 = 18,58 \n",
    "    std=np.std(X,axis=0)\n",
    "    #X_norm normaliza los valores de las dos columnas restando a cada valor la media y dividiendo por la std (tipifica)\n",
    "    X_norm = (X - mean)/std \n",
    "    \n",
    "    return X_norm , mean , std #devuelve las columnas de X normalizadas, la media y la desv estándar"
   ]
  },
  {
   "cell_type": "code",
   "execution_count": 162,
   "metadata": {},
   "outputs": [
    {
     "name": "stdout",
     "output_type": "stream",
     "text": [
      "Cost of initial theta is 0.693147180559946\n",
      "Gradient at initial theta (zeros): [[-0.1       ]\n",
      " [-0.28122914]\n",
      " [-0.25098615]]\n"
     ]
    }
   ],
   "source": [
    "#m y n se refieren a cada una de las dos columnas, de valor 100 cada uno\n",
    "m , n = X.shape[0], X.shape[1]\n",
    "#retorna los valores de X, X_mean, X_std y los aplica a la función de featureNormalization(X)\n",
    "X, X_mean, X_std = featureNormalization(X)\n",
    "#X es igual a un array de tamaño m (100), pero con valores de 1\n",
    "X= np.append(np.ones((m,1)),X,axis=1)\n",
    "#Y es igual a una columna de tamaño m(100) y de una columna\n",
    "y=y.reshape(m,1)\n",
    "#initial_theta es un array de n (100) filas y una columna, llena de 0\n",
    "initial_theta = np.zeros((n+1,1))\n",
    "#cost, grad es la aplicación de la función costFunction aplicado a initial_theta, a X y a Y\n",
    "cost, grad = costFunction(initial_theta,X,y)\n",
    "#Imprime el valor del coste inicial de theta, que es 0.693\n",
    "print(\"Cost of initial theta is\",cost)\n",
    "#imprime el valor inicial del gradiente, que es un array que indica el movimiento de la función de tamaño initial_theta -0.1, x - 0.28 e y -0.25\n",
    "print(\"Gradient at initial theta (zeros):\",grad)"
   ]
  },
  {
   "cell_type": "markdown",
   "metadata": {},
   "source": [
    "### 3.4. Descenso del Gradiente\n",
    "\n",
    "En este apartado desarrollaremos gradientDescent, cuya finalidad es la de descubri la función con un menor coste, la cual utiliza el número de iteraciones que la función debe realizar donde calcula el coste de la función en cada iteración"
   ]
  },
  {
   "cell_type": "code",
   "execution_count": 164,
   "metadata": {},
   "outputs": [],
   "source": [
    "def gradientDescent(X,y,theta,alpha,num_iters):\n",
    " \n",
    "    m=len(y) #m = 100\n",
    "    J_history =[] #creación de un objeto donde se guardarán los valores de la función\n",
    "    \n",
    "    for i in range(num_iters): #función que indica el numero de iteraciones que vamos a realizar en la función creada\n",
    "        cost, grad = costFunction(theta,X,y) #coste de la función por medio de los valores de tethea, X e y\n",
    "        theta = theta - (alpha * grad) #theta es el valor de theta - alpha por el gradiente\n",
    "        J_history.append(cost) #añade el valor generado en cost al objeto creado (y vacío) de J_history\n",
    "    \n",
    "    return theta , J_history"
   ]
  },
  {
   "cell_type": "code",
   "execution_count": 175,
   "metadata": {},
   "outputs": [],
   "source": [
    "theta , J_history = gradientDescent(X,y,initial_theta,2,50) #alpha es el ratio de aprendizaje y num_iters es el numero de iteraciones realizadas"
   ]
  },
  {
   "cell_type": "code",
   "execution_count": 176,
   "metadata": {},
   "outputs": [
    {
     "data": {
      "text/plain": [
       "Text(0.5, 1.0, 'Cost function using Gradient Descent')"
      ]
     },
     "execution_count": 176,
     "metadata": {},
     "output_type": "execute_result"
    },
    {
     "data": {
      "image/png": "[encoded data removed]",
      "text/plain": [
       "<Figure size 432x288 with 1 Axes>"
      ]
     },
     "metadata": {
      "needs_background": "light"
     },
     "output_type": "display_data"
    }
   ],
   "source": [
    "plt.plot(J_history) #plot del objeto creado con el conjunto de valores de coste obtenidos (valores de theta)\n",
    "plt.xlabel(\"Iteration\") #nombre eje x\n",
    "plt.ylabel(\"$J(\\Theta)$\") #nombre eje y\n",
    "plt.title(\"Cost function using Gradient Descent\") #titulo de la gráfica"
   ]
  },
  {
   "cell_type": "markdown",
   "metadata": {},
   "source": [
    "### 3.5. Visualización de la función de coste\n",
    "\n",
    "Una vez obtenido el valor de la función con menor MSE, procedemos a visualizar los datos"
   ]
  },
  {
   "cell_type": "code",
   "execution_count": 188,
   "metadata": {},
   "outputs": [
    {
     "data": {
      "text/plain": [
       "<matplotlib.legend.Legend at 0x21bf9cd5d30>"
      ]
     },
     "execution_count": 188,
     "metadata": {},
     "output_type": "execute_result"
    },
    {
     "data": {
      "image/png": "[encoded data removed]",
      "text/plain": [
       "<Figure size 432x288 with 1 Axes>"
      ]
     },
     "metadata": {
      "needs_background": "light"
     },
     "output_type": "display_data"
    }
   ],
   "source": [
    "plt.scatter(X[pos[:,0],1],X[pos[:,0],2],c=\"r\",marker=\"+\",label=\"Admitted\") # valores de x con y = 1\n",
    "plt.scatter(X[neg[:,0],1],X[neg[:,0],2],c=\"b\",marker=\"x\",label=\"Not admitted\") # valores de x con y = 0\n",
    "\n",
    "x_value= np.array([np.min(X[:,1]),np.max(X[:,1])]) #x_value es el array para el valor minimo del valor normalizado de la columna de X (-1.83, 1.76), medido en desv estandar\n",
    "y_value=-(theta[0] + theta[1]*x_value)/theta[2] #y_value es el primer valor de theta + el segundo * el valor obtenido de x_value entre el valor de theta [2]\n",
    "plt.plot(x_value,y_value) #línea formada por la función con el menor coste\n",
    "\n",
    "plt.xlabel(\"Exam 1 score\") #nombre columna x\n",
    "plt.ylabel(\"Exam 2 score\") #nombre columna y\n",
    "plt.legend(loc=0) #legenda de admitido y no admitido"
   ]
  },
  {
   "cell_type": "markdown",
   "metadata": {},
   "source": [
    "## 4. Predicción\n",
    "\n",
    "Una vez concluido el cálculo de la función de coste y el descenso del gradiente, procederemos a valorar la predicción del modelo."
   ]
  },
  {
   "cell_type": "code",
   "execution_count": 71,
   "metadata": {},
   "outputs": [],
   "source": [
    "def classifierPredict(theta,X):\n",
    "\n",
    "    predictions = X.dot(theta) #multiplicación del valor de theta por el array de X\n",
    "    \n",
    "    return predictions>0"
   ]
  },
  {
   "cell_type": "code",
   "execution_count": 197,
   "metadata": {},
   "outputs": [
    {
     "name": "stdout",
     "output_type": "stream",
     "text": [
      "For a student with scores 50 and 85, we predict an admission probability of 0.8432433278430856\n"
     ]
    }
   ],
   "source": [
    "x_test = np.array([50,85]) #valor aleatorio que asignamos\n",
    "x_test = (x_test - X_mean)/X_std #valor del test menos la media\n",
    "x_test = np.append(np.ones(1),x_test) #array con el valor del test\n",
    "prob = sigmoid(x_test.dot(theta)) #predicción, valor del test por theta\n",
    "print(\"For a student with scores 50 and 85, we predict an admission probability of\",prob[0])"
   ]
  },
  {
   "cell_type": "code",
   "execution_count": 73,
   "metadata": {},
   "outputs": [
    {
     "name": "stdout",
     "output_type": "stream",
     "text": [
      "Train Accuracy: 89 %\n"
     ]
    }
   ],
   "source": [
    "#cálculo para todos los valores del dataset\n",
    "p=classifierPredict(theta,X)\n",
    "print(\"Train Accuracy:\", sum(p==y)[0],\"%\")"
   ]
  },
  {
   "cell_type": "markdown",
   "metadata": {},
   "source": [
    "## 5. Bibliografía\n",
    "\n",
    "\n",
    "__Descenso del Gradiente:__\n",
    "\n",
    "* https://es.wikipedia.org/wiki/Regresi%C3%B3n_log%C3%ADstica\n",
    "* https://www.ellaberintodefalken.com/2019/03/regresion-lineal-descenso-de-gradiente.html\n",
    "* https://www.ellaberintodefalken.com/2019/03/regresion-lineal-descenso-de-gradiente.html\n",
    "* https://medium.com/@lachlanmiller_52885/machine-learning-week-1-cost-function-gradient-descent-and-univariate-linear-regression-8f5fe69815fd\n",
    "\n",
    "__Función Sigmoide:__\n",
    "\n",
    "* https://es.wikipedia.org/wiki/Funci%C3%B3n_sigmoide\n",
    "\n",
    "__Función np.dot:__\n",
    "\n",
    "* https://numpy.org/doc/stable/reference/generated/numpy.dot.html\n",
    "\n",
    "__Repositorios Github:__\n",
    "\n",
    "* https://github.com/Arko98/Gradient-Descent-Algorithms/tree/master/Algorithms\n",
    "* https://github.com/Benlau93/Machine-Learning-by-Andrew-Ng-in-Python\n",
    "\n",
    "__Squared Error:__\n",
    "\n",
    "* https://datascience.stackexchange.com/questions/10188/why-do-cost-functions-use-the-square-error"
   ]
  }
 ],
 "metadata": {
  "kernelspec": {
   "display_name": "Python (desc_grad)",
   "language": "python",
   "name": "desc_grad"
  },
  "language_info": {
   "codemirror_mode": {
    "name": "ipython",
    "version": 3
   },
   "file_extension": ".py",
   "mimetype": "text/x-python",
   "name": "python",
   "nbconvert_exporter": "python",
   "pygments_lexer": "ipython3",
   "version": "3.8.5"
  }
 },
 "nbformat": 4,
 "nbformat_minor": 4
}

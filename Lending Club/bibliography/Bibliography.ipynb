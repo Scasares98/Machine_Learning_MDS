{
 "cells": [
  {
   "cell_type": "markdown",
   "metadata": {},
   "source": [
    "# 1. Bibligraphy"
   ]
  },
  {
   "cell_type": "markdown",
   "metadata": {},
   "source": [
    "__Librerías:__\n",
    "\n",
    "* https://scikit-learn.org/stable/\n",
    "\n",
    "* https://xgboost.readthedocs.io/en/latest/\n",
    "\n",
    "* https://seaborn.pydata.org/\n",
    "\n",
    "\n",
    "__Visualización:__\n",
    "\n",
    "* https://relopezbriega.github.io/blog/2016/09/18/visualizaciones-de-datos-con-python/\n",
    "\n",
    "* https://todoia.es/guia-completa-de-visualizacion-de-datos-con-python/\n",
    "\n",
    "* http://seaborn.pydata.org/tutorial/aesthetics.html\n",
    "\n",
    "__OneHot Encoding:__\n",
    "\n",
    "* https://www.geeksforgeeks.org/ml-one-hot-encoding-of-datasets-in-python/\n",
    "\n",
    "* https://towardsdatascience.com/stop-one-hot-encoding-your-categorical-variables-bbb0fba89809\n",
    "\n",
    "__Modelos Predictivos:__\n",
    "\n",
    "* https://towardsdatascience.com/catboost-vs-light-gbm-vs-xgboost-5f93620723db\n",
    "\n",
    "* https://medium.com/@benfenison/gridsearching-a-random-forest-classifier-fc225609699c\n",
    "\n",
    "* https://towardsdatascience.com/random-forest-in-python-24d0893d51c0\n",
    "\n",
    "__Pipelines:__\n",
    "\n",
    "* https://medium.com/vickdata/a-simple-guide-to-scikit-learn-pipelines-4ac0d974bdcf\n",
    "\n",
    "__Lending Club:__\n",
    "\n",
    "* https://www.kaggle.com/wordsforthewise/lending-club\n",
    "\n",
    "* https://github.com/harrinac/lending_club_analysis\n",
    "\n",
    "* https://github.com/harrinac/lending_club_analysis/blob/master/Lending_Club_Data_Exploration_1.ipynb\n",
    "\n",
    "\n",
    "\n"
   ]
  }
 ],
 "metadata": {
  "kernelspec": {
   "display_name": "Python 3",
   "language": "python",
   "name": "python3"
  },
  "language_info": {
   "codemirror_mode": {
    "name": "ipython",
    "version": 3
   },
   "file_extension": ".py",
   "mimetype": "text/x-python",
   "name": "python",
   "nbconvert_exporter": "python",
   "pygments_lexer": "ipython3",
   "version": "3.8.3"
  }
 },
 "nbformat": 4,
 "nbformat_minor": 4
}
